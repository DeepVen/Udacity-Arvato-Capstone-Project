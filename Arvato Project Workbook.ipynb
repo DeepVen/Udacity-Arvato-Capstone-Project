{
 "cells": [
  {
   "cell_type": "markdown",
   "metadata": {},
   "source": [
    "# Capstone Project: Create a Customer Segmentation Report for Arvato Financial Services\n",
    "\n",
    "In this project, you will analyze demographics data for customers of a mail-order sales company in Germany, comparing it against demographics information for the general population. You'll use unsupervised learning techniques to perform customer segmentation, identifying the parts of the population that best describe the core customer base of the company. Then, you'll apply what you've learned on a third dataset with demographics information for targets of a marketing campaign for the company, and use a model to predict which individuals are most likely to convert into becoming customers for the company. The data that you will use has been provided by our partners at Bertelsmann Arvato Analytics, and represents a real-life data science task.\n",
    "\n",
    "If you completed the first term of this program, you will be familiar with the first part of this project, from the unsupervised learning project. The versions of those two datasets used in this project will include many more features and has not been pre-cleaned. You are also free to choose whatever approach you'd like to analyzing the data rather than follow pre-determined steps. In your work on this project, make sure that you carefully document your steps and decisions, since your main deliverable for this project will be a blog post reporting your findings."
   ]
  },
  {
   "cell_type": "code",
   "execution_count": 2,
   "metadata": {},
   "outputs": [],
   "source": [
    "# import libraries here; add more as necessary\n",
    "import numpy as np\n",
    "import pandas as pd\n",
    "\n",
    "import matplotlib.pyplot as plt\n",
    "import seaborn as sns\n",
    "\n",
    "from sklearn.preprocessing import StandardScaler, MinMaxScaler\n",
    "\n",
    "from sklearn.model_selection import train_test_split\n",
    "from sklearn.model_selection import StratifiedKFold\n",
    "from sklearn.model_selection import GridSearchCV\n",
    "\n",
    "from sklearn.decomposition import PCA\n",
    "from sklearn.preprocessing import Imputer\n",
    "from sklearn.cluster import KMeans\n",
    "from sklearn.cluster import DBSCAN\n",
    "from sklearn.cluster import MeanShift\n",
    "\n",
    "from sklearn.ensemble import AdaBoostRegressor # Adaptive Boosting\n",
    "from sklearn.ensemble import GradientBoostingRegressor # Gradient Tree Boosting\n",
    "from xgboost.sklearn import XGBRegressor # Extreme Gradient Boosting\n",
    "import xgboost as xgb\n",
    "\n",
    "from sklearn.metrics import roc_auc_score, fbeta_score, accuracy_score, precision_score, recall_score\n",
    "\n",
    "from scipy import stats\n",
    "from time import time\n",
    "\n",
    "# magic word for producing visualizations in notebook\n",
    "%matplotlib inline"
   ]
  },
  {
   "cell_type": "markdown",
   "metadata": {},
   "source": [
    "## Part 0: Get to Know the Data\n",
    "\n",
    "There are four data files associated with this project:\n",
    "\n",
    "- `Udacity_AZDIAS_052018.csv`: Demographics data for the general population of Germany; 891 211 persons (rows) x 366 features (columns).\n",
    "- `Udacity_CUSTOMERS_052018.csv`: Demographics data for customers of a mail-order company; 191 652 persons (rows) x 369 features (columns).\n",
    "- `Udacity_MAILOUT_052018_TRAIN.csv`: Demographics data for individuals who were targets of a marketing campaign; 42 982 persons (rows) x 367 (columns).\n",
    "- `Udacity_MAILOUT_052018_TEST.csv`: Demographics data for individuals who were targets of a marketing campaign; 42 833 persons (rows) x 366 (columns).\n",
    "\n",
    "Each row of the demographics files represents a single person, but also includes information outside of individuals, including information about their household, building, and neighborhood. Use the information from the first two files to figure out how customers (\"CUSTOMERS\") are similar to or differ from the general population at large (\"AZDIAS\"), then use your analysis to make predictions on the other two files (\"MAILOUT\"), predicting which recipients are most likely to become a customer for the mail-order company.\n",
    "\n",
    "The \"CUSTOMERS\" file contains three extra columns ('CUSTOMER_GROUP', 'ONLINE_PURCHASE', and 'PRODUCT_GROUP'), which provide broad information about the customers depicted in the file. The original \"MAILOUT\" file included one additional column, \"RESPONSE\", which indicated whether or not each recipient became a customer of the company. For the \"TRAIN\" subset, this column has been retained, but in the \"TEST\" subset it has been removed; it is against that withheld column that your final predictions will be assessed in the Kaggle competition.\n",
    "\n",
    "Otherwise, all of the remaining columns are the same between the three data files. For more information about the columns depicted in the files, you can refer to two Excel spreadsheets provided in the workspace. [One of them](./DIAS Information Levels - Attributes 2017.xlsx) is a top-level list of attributes and descriptions, organized by informational category. [The other](./DIAS Attributes - Values 2017.xlsx) is a detailed mapping of data values for each feature in alphabetical order.\n",
    "\n",
    "In the below cell, we've provided some initial code to load in the first two datasets. Note for all of the `.csv` data files in this project that they're semicolon (`;`) delimited, so an additional argument in the [`read_csv()`](https://pandas.pydata.org/pandas-docs/stable/generated/pandas.read_csv.html) call has been included to read in the data properly. Also, considering the size of the datasets, it may take some time for them to load completely.\n",
    "\n",
    "You'll notice when the data is loaded in that a warning message will immediately pop up. Before you really start digging into the modeling and analysis, you're going to need to perform some cleaning. Take some time to browse the structure of the data and look over the informational spreadsheets to understand the data values. Make some decisions on which features to keep, which features to drop, and if any revisions need to be made on data formats. It'll be a good idea to create a function with pre-processing steps, since you'll need to clean all of the datasets before you work with them."
   ]
  },
  {
   "cell_type": "code",
   "execution_count": 3,
   "metadata": {},
   "outputs": [
    {
     "name": "stdout",
     "output_type": "stream",
     "text": [
      "CPU times: user 2min 49s, sys: 59.7 s, total: 3min 49s\n",
      "Wall time: 18min 41s\n"
     ]
    }
   ],
   "source": [
    "%%time\n",
    "# load in the data\n",
    "azdias = pd.read_csv('../../data/Term2/capstone/arvato_data/Udacity_AZDIAS_052018.csv', sep=';', low_memory=False)\n",
    "customers = pd.read_csv('../../data/Term2/capstone/arvato_data/Udacity_CUSTOMERS_052018.csv', sep=';', low_memory=False)"
   ]
  },
  {
   "cell_type": "code",
   "execution_count": 4,
   "metadata": {},
   "outputs": [],
   "source": [
    "# back up of dataframe with raw data for any future use/comparison of processed data with original data etc\n",
    "azdias_copy = azdias.copy()\n",
    "customers_copy = customers.copy()"
   ]
  },
  {
   "cell_type": "code",
   "execution_count": null,
   "metadata": {},
   "outputs": [],
   "source": [
    "azdias = azdias_copy\n",
    "customers = customers_copy"
   ]
  },
  {
   "cell_type": "code",
   "execution_count": 5,
   "metadata": {},
   "outputs": [],
   "source": [
    "# save data to pickle to speed up loading of data in future\n",
    "# saving to pickle takes >2.5gb of space and this causes space issues in Udacity's workspace hence commented it out\n",
    "\n",
    "#azdias = azdias.to_pickle('azdias.pickle')\n",
    "#customers = customers.to_pickle('customers.pickle')"
   ]
  },
  {
   "cell_type": "code",
   "execution_count": null,
   "metadata": {},
   "outputs": [],
   "source": [
    "%%time\n",
    "# load in the data\n",
    "#azdias = pd.read_pickle('azdias.pickle')\n",
    "#customers = pd.read_pickle('customers.pickle')"
   ]
  },
  {
   "cell_type": "markdown",
   "metadata": {},
   "source": [
    "## Data Exploration & Visualization"
   ]
  },
  {
   "cell_type": "code",
   "execution_count": 7,
   "metadata": {},
   "outputs": [
    {
     "data": {
      "text/html": [
       "<div>\n",
       "<style scoped>\n",
       "    .dataframe tbody tr th:only-of-type {\n",
       "        vertical-align: middle;\n",
       "    }\n",
       "\n",
       "    .dataframe tbody tr th {\n",
       "        vertical-align: top;\n",
       "    }\n",
       "\n",
       "    .dataframe thead th {\n",
       "        text-align: right;\n",
       "    }\n",
       "</style>\n",
       "<table border=\"1\" class=\"dataframe\">\n",
       "  <thead>\n",
       "    <tr style=\"text-align: right;\">\n",
       "      <th></th>\n",
       "      <th>LNR</th>\n",
       "      <th>AGER_TYP</th>\n",
       "      <th>AKT_DAT_KL</th>\n",
       "      <th>ALTER_HH</th>\n",
       "      <th>ALTER_KIND1</th>\n",
       "      <th>ALTER_KIND2</th>\n",
       "      <th>ALTER_KIND3</th>\n",
       "      <th>ALTER_KIND4</th>\n",
       "      <th>ALTERSKATEGORIE_FEIN</th>\n",
       "      <th>ANZ_HAUSHALTE_AKTIV</th>\n",
       "      <th>...</th>\n",
       "      <th>VHN</th>\n",
       "      <th>VK_DHT4A</th>\n",
       "      <th>VK_DISTANZ</th>\n",
       "      <th>VK_ZG11</th>\n",
       "      <th>W_KEIT_KIND_HH</th>\n",
       "      <th>WOHNDAUER_2008</th>\n",
       "      <th>WOHNLAGE</th>\n",
       "      <th>ZABEOTYP</th>\n",
       "      <th>ANREDE_KZ</th>\n",
       "      <th>ALTERSKATEGORIE_GROB</th>\n",
       "    </tr>\n",
       "  </thead>\n",
       "  <tbody>\n",
       "    <tr>\n",
       "      <th>count</th>\n",
       "      <td>8.912210e+05</td>\n",
       "      <td>891221.000000</td>\n",
       "      <td>817722.000000</td>\n",
       "      <td>817722.000000</td>\n",
       "      <td>81058.000000</td>\n",
       "      <td>29499.000000</td>\n",
       "      <td>6170.000000</td>\n",
       "      <td>1205.000000</td>\n",
       "      <td>628274.000000</td>\n",
       "      <td>798073.000000</td>\n",
       "      <td>...</td>\n",
       "      <td>770025.000000</td>\n",
       "      <td>815304.000000</td>\n",
       "      <td>815304.000000</td>\n",
       "      <td>815304.000000</td>\n",
       "      <td>783619.000000</td>\n",
       "      <td>817722.000000</td>\n",
       "      <td>798073.000000</td>\n",
       "      <td>891221.000000</td>\n",
       "      <td>891221.000000</td>\n",
       "      <td>891221.000000</td>\n",
       "    </tr>\n",
       "    <tr>\n",
       "      <th>mean</th>\n",
       "      <td>6.372630e+05</td>\n",
       "      <td>-0.358435</td>\n",
       "      <td>4.421928</td>\n",
       "      <td>10.864126</td>\n",
       "      <td>11.745392</td>\n",
       "      <td>13.402658</td>\n",
       "      <td>14.476013</td>\n",
       "      <td>15.089627</td>\n",
       "      <td>13.700717</td>\n",
       "      <td>8.287263</td>\n",
       "      <td>...</td>\n",
       "      <td>2.417322</td>\n",
       "      <td>6.001214</td>\n",
       "      <td>7.532130</td>\n",
       "      <td>5.945972</td>\n",
       "      <td>3.933406</td>\n",
       "      <td>7.908791</td>\n",
       "      <td>4.052836</td>\n",
       "      <td>3.362438</td>\n",
       "      <td>1.522098</td>\n",
       "      <td>2.777398</td>\n",
       "    </tr>\n",
       "    <tr>\n",
       "      <th>std</th>\n",
       "      <td>2.572735e+05</td>\n",
       "      <td>1.198724</td>\n",
       "      <td>3.638805</td>\n",
       "      <td>7.639683</td>\n",
       "      <td>4.097660</td>\n",
       "      <td>3.243300</td>\n",
       "      <td>2.712427</td>\n",
       "      <td>2.452932</td>\n",
       "      <td>5.079849</td>\n",
       "      <td>15.628087</td>\n",
       "      <td>...</td>\n",
       "      <td>1.166572</td>\n",
       "      <td>2.856091</td>\n",
       "      <td>3.247789</td>\n",
       "      <td>2.771464</td>\n",
       "      <td>1.964701</td>\n",
       "      <td>1.923137</td>\n",
       "      <td>1.949539</td>\n",
       "      <td>1.352704</td>\n",
       "      <td>0.499512</td>\n",
       "      <td>1.068775</td>\n",
       "    </tr>\n",
       "    <tr>\n",
       "      <th>min</th>\n",
       "      <td>1.916530e+05</td>\n",
       "      <td>-1.000000</td>\n",
       "      <td>1.000000</td>\n",
       "      <td>0.000000</td>\n",
       "      <td>2.000000</td>\n",
       "      <td>2.000000</td>\n",
       "      <td>4.000000</td>\n",
       "      <td>7.000000</td>\n",
       "      <td>0.000000</td>\n",
       "      <td>0.000000</td>\n",
       "      <td>...</td>\n",
       "      <td>0.000000</td>\n",
       "      <td>1.000000</td>\n",
       "      <td>1.000000</td>\n",
       "      <td>1.000000</td>\n",
       "      <td>0.000000</td>\n",
       "      <td>1.000000</td>\n",
       "      <td>0.000000</td>\n",
       "      <td>1.000000</td>\n",
       "      <td>1.000000</td>\n",
       "      <td>1.000000</td>\n",
       "    </tr>\n",
       "    <tr>\n",
       "      <th>25%</th>\n",
       "      <td>4.144580e+05</td>\n",
       "      <td>-1.000000</td>\n",
       "      <td>1.000000</td>\n",
       "      <td>0.000000</td>\n",
       "      <td>8.000000</td>\n",
       "      <td>11.000000</td>\n",
       "      <td>13.000000</td>\n",
       "      <td>14.000000</td>\n",
       "      <td>11.000000</td>\n",
       "      <td>1.000000</td>\n",
       "      <td>...</td>\n",
       "      <td>2.000000</td>\n",
       "      <td>3.000000</td>\n",
       "      <td>5.000000</td>\n",
       "      <td>4.000000</td>\n",
       "      <td>2.000000</td>\n",
       "      <td>8.000000</td>\n",
       "      <td>3.000000</td>\n",
       "      <td>3.000000</td>\n",
       "      <td>1.000000</td>\n",
       "      <td>2.000000</td>\n",
       "    </tr>\n",
       "    <tr>\n",
       "      <th>50%</th>\n",
       "      <td>6.372630e+05</td>\n",
       "      <td>-1.000000</td>\n",
       "      <td>3.000000</td>\n",
       "      <td>13.000000</td>\n",
       "      <td>12.000000</td>\n",
       "      <td>14.000000</td>\n",
       "      <td>15.000000</td>\n",
       "      <td>15.000000</td>\n",
       "      <td>14.000000</td>\n",
       "      <td>4.000000</td>\n",
       "      <td>...</td>\n",
       "      <td>2.000000</td>\n",
       "      <td>6.000000</td>\n",
       "      <td>8.000000</td>\n",
       "      <td>6.000000</td>\n",
       "      <td>4.000000</td>\n",
       "      <td>9.000000</td>\n",
       "      <td>3.000000</td>\n",
       "      <td>3.000000</td>\n",
       "      <td>2.000000</td>\n",
       "      <td>3.000000</td>\n",
       "    </tr>\n",
       "    <tr>\n",
       "      <th>75%</th>\n",
       "      <td>8.600680e+05</td>\n",
       "      <td>-1.000000</td>\n",
       "      <td>9.000000</td>\n",
       "      <td>17.000000</td>\n",
       "      <td>15.000000</td>\n",
       "      <td>16.000000</td>\n",
       "      <td>17.000000</td>\n",
       "      <td>17.000000</td>\n",
       "      <td>17.000000</td>\n",
       "      <td>9.000000</td>\n",
       "      <td>...</td>\n",
       "      <td>3.000000</td>\n",
       "      <td>9.000000</td>\n",
       "      <td>10.000000</td>\n",
       "      <td>8.000000</td>\n",
       "      <td>6.000000</td>\n",
       "      <td>9.000000</td>\n",
       "      <td>5.000000</td>\n",
       "      <td>4.000000</td>\n",
       "      <td>2.000000</td>\n",
       "      <td>4.000000</td>\n",
       "    </tr>\n",
       "    <tr>\n",
       "      <th>max</th>\n",
       "      <td>1.082873e+06</td>\n",
       "      <td>3.000000</td>\n",
       "      <td>9.000000</td>\n",
       "      <td>21.000000</td>\n",
       "      <td>18.000000</td>\n",
       "      <td>18.000000</td>\n",
       "      <td>18.000000</td>\n",
       "      <td>18.000000</td>\n",
       "      <td>25.000000</td>\n",
       "      <td>595.000000</td>\n",
       "      <td>...</td>\n",
       "      <td>4.000000</td>\n",
       "      <td>11.000000</td>\n",
       "      <td>13.000000</td>\n",
       "      <td>11.000000</td>\n",
       "      <td>6.000000</td>\n",
       "      <td>9.000000</td>\n",
       "      <td>8.000000</td>\n",
       "      <td>6.000000</td>\n",
       "      <td>2.000000</td>\n",
       "      <td>9.000000</td>\n",
       "    </tr>\n",
       "  </tbody>\n",
       "</table>\n",
       "<p>8 rows × 360 columns</p>\n",
       "</div>"
      ],
      "text/plain": [
       "                LNR       AGER_TYP     AKT_DAT_KL       ALTER_HH  \\\n",
       "count  8.912210e+05  891221.000000  817722.000000  817722.000000   \n",
       "mean   6.372630e+05      -0.358435       4.421928      10.864126   \n",
       "std    2.572735e+05       1.198724       3.638805       7.639683   \n",
       "min    1.916530e+05      -1.000000       1.000000       0.000000   \n",
       "25%    4.144580e+05      -1.000000       1.000000       0.000000   \n",
       "50%    6.372630e+05      -1.000000       3.000000      13.000000   \n",
       "75%    8.600680e+05      -1.000000       9.000000      17.000000   \n",
       "max    1.082873e+06       3.000000       9.000000      21.000000   \n",
       "\n",
       "        ALTER_KIND1   ALTER_KIND2  ALTER_KIND3  ALTER_KIND4  \\\n",
       "count  81058.000000  29499.000000  6170.000000  1205.000000   \n",
       "mean      11.745392     13.402658    14.476013    15.089627   \n",
       "std        4.097660      3.243300     2.712427     2.452932   \n",
       "min        2.000000      2.000000     4.000000     7.000000   \n",
       "25%        8.000000     11.000000    13.000000    14.000000   \n",
       "50%       12.000000     14.000000    15.000000    15.000000   \n",
       "75%       15.000000     16.000000    17.000000    17.000000   \n",
       "max       18.000000     18.000000    18.000000    18.000000   \n",
       "\n",
       "       ALTERSKATEGORIE_FEIN  ANZ_HAUSHALTE_AKTIV          ...           \\\n",
       "count         628274.000000        798073.000000          ...            \n",
       "mean              13.700717             8.287263          ...            \n",
       "std                5.079849            15.628087          ...            \n",
       "min                0.000000             0.000000          ...            \n",
       "25%               11.000000             1.000000          ...            \n",
       "50%               14.000000             4.000000          ...            \n",
       "75%               17.000000             9.000000          ...            \n",
       "max               25.000000           595.000000          ...            \n",
       "\n",
       "                 VHN       VK_DHT4A     VK_DISTANZ        VK_ZG11  \\\n",
       "count  770025.000000  815304.000000  815304.000000  815304.000000   \n",
       "mean        2.417322       6.001214       7.532130       5.945972   \n",
       "std         1.166572       2.856091       3.247789       2.771464   \n",
       "min         0.000000       1.000000       1.000000       1.000000   \n",
       "25%         2.000000       3.000000       5.000000       4.000000   \n",
       "50%         2.000000       6.000000       8.000000       6.000000   \n",
       "75%         3.000000       9.000000      10.000000       8.000000   \n",
       "max         4.000000      11.000000      13.000000      11.000000   \n",
       "\n",
       "       W_KEIT_KIND_HH  WOHNDAUER_2008       WOHNLAGE       ZABEOTYP  \\\n",
       "count   783619.000000   817722.000000  798073.000000  891221.000000   \n",
       "mean         3.933406        7.908791       4.052836       3.362438   \n",
       "std          1.964701        1.923137       1.949539       1.352704   \n",
       "min          0.000000        1.000000       0.000000       1.000000   \n",
       "25%          2.000000        8.000000       3.000000       3.000000   \n",
       "50%          4.000000        9.000000       3.000000       3.000000   \n",
       "75%          6.000000        9.000000       5.000000       4.000000   \n",
       "max          6.000000        9.000000       8.000000       6.000000   \n",
       "\n",
       "           ANREDE_KZ  ALTERSKATEGORIE_GROB  \n",
       "count  891221.000000         891221.000000  \n",
       "mean        1.522098              2.777398  \n",
       "std         0.499512              1.068775  \n",
       "min         1.000000              1.000000  \n",
       "25%         1.000000              2.000000  \n",
       "50%         2.000000              3.000000  \n",
       "75%         2.000000              4.000000  \n",
       "max         2.000000              9.000000  \n",
       "\n",
       "[8 rows x 360 columns]"
      ]
     },
     "execution_count": 7,
     "metadata": {},
     "output_type": "execute_result"
    }
   ],
   "source": [
    "azdias.describe()"
   ]
  },
  {
   "cell_type": "code",
   "execution_count": 8,
   "metadata": {},
   "outputs": [],
   "source": [
    "# find data that is 'naturally missing' in dataset\n",
    "# get number of nan/null data in azdias before any processing is applied\n",
    "# total number of fields with null - 'naturally'\n",
    "azdias_null = azdias.isnull().sum()\n",
    "azdias_null_percent = azdias_null / len(azdias) * 100"
   ]
  },
  {
   "cell_type": "code",
   "execution_count": 10,
   "metadata": {},
   "outputs": [
    {
     "data": {
      "text/plain": [
       "<matplotlib.axes._subplots.AxesSubplot at 0x7fbe400794a8>"
      ]
     },
     "execution_count": 10,
     "metadata": {},
     "output_type": "execute_result"
    },
    {
     "data": {
      "image/png": "[encoded data removed]",
      "text/plain": [
       "<matplotlib.figure.Figure at 0x7fbe400c7fd0>"
      ]
     },
     "metadata": {
      "needs_background": "light"
     },
     "output_type": "display_data"
    }
   ],
   "source": [
    "# visualise natually missing data\n",
    "(azdias_null.sort_values(ascending=False)[:50].plot(kind='bar', figsize=(20,8), fontsize=13))  "
   ]
  },
  {
   "cell_type": "code",
   "execution_count": 11,
   "metadata": {},
   "outputs": [
    {
     "data": {
      "image/png": "[encoded data removed]",
      "text/plain": [
       "<matplotlib.figure.Figure at 0x7fbe3ff80780>"
      ]
     },
     "metadata": {
      "needs_background": "light"
     },
     "output_type": "display_data"
    },
    {
     "name": "stdout",
     "output_type": "stream",
     "text": [
      "% of missing data in columns \n",
      " ALTER_KIND4                    99.864792\n",
      "ALTER_KIND3                    99.307691\n",
      "ALTER_KIND2                    96.690047\n",
      "ALTER_KIND1                    90.904837\n",
      "EXTSEL992                      73.399639\n",
      "KK_KUNDENTYP                   65.596749\n",
      "ALTERSKATEGORIE_FEIN           29.504130\n",
      "D19_LETZTER_KAUF_BRANCHE       28.849522\n",
      "D19_LOTTO                      28.849522\n",
      "D19_VERSI_ONLINE_QUOTE_12      28.849522\n",
      "D19_BANKEN_ONLINE_QUOTE_12     28.849522\n",
      "D19_SOZIALES                   28.849522\n",
      "D19_GESAMT_ONLINE_QUOTE_12     28.849522\n",
      "D19_KONSUMTYP                  28.849522\n",
      "D19_TELKO_ONLINE_QUOTE_12      28.849522\n",
      "D19_VERSAND_ONLINE_QUOTE_12    28.849522\n",
      "KBA05_MOTOR                    14.959701\n",
      "KBA05_MOD8                     14.959701\n",
      "KBA05_MOD4                     14.959701\n",
      "KBA05_MOD3                     14.959701\n",
      "KBA05_MOD2                     14.959701\n",
      "KBA05_SEG1                     14.959701\n",
      "KBA05_MOD1                     14.959701\n",
      "KBA05_MAXVORB                  14.959701\n",
      "KBA05_MAXSEG                   14.959701\n",
      "KBA05_MAXHERST                 14.959701\n",
      "KBA05_MAXBJ                    14.959701\n",
      "KBA05_MAXAH                    14.959701\n",
      "KBA05_KW3                      14.959701\n",
      "KBA05_MOTRAD                   14.959701\n",
      "                                 ...    \n",
      "D19_RATGEBER                    0.000000\n",
      "FINANZ_ANLEGER                  0.000000\n",
      "D19_REISEN                      0.000000\n",
      "D19_SAMMELARTIKEL               0.000000\n",
      "D19_SCHUHE                      0.000000\n",
      "D19_SONSTIGE                    0.000000\n",
      "D19_TECHNIK                     0.000000\n",
      "D19_TELKO_ANZ_12                0.000000\n",
      "D19_TELKO_ANZ_24                0.000000\n",
      "D19_TELKO_DATUM                 0.000000\n",
      "D19_TELKO_MOBILE                0.000000\n",
      "D19_TELKO_OFFLINE_DATUM         0.000000\n",
      "D19_TELKO_ONLINE_DATUM          0.000000\n",
      "D19_TELKO_REST                  0.000000\n",
      "D19_TIERARTIKEL                 0.000000\n",
      "D19_VERSAND_ANZ_12              0.000000\n",
      "D19_VERSAND_ANZ_24              0.000000\n",
      "D19_VERSAND_DATUM               0.000000\n",
      "D19_VERSAND_OFFLINE_DATUM       0.000000\n",
      "D19_VERSAND_ONLINE_DATUM        0.000000\n",
      "D19_VERSAND_REST                0.000000\n",
      "D19_VERSI_ANZ_12                0.000000\n",
      "D19_VERSI_ANZ_24                0.000000\n",
      "D19_VERSI_DATUM                 0.000000\n",
      "D19_VERSI_OFFLINE_DATUM         0.000000\n",
      "D19_VERSI_ONLINE_DATUM          0.000000\n",
      "D19_VERSICHERUNGEN              0.000000\n",
      "D19_VOLLSORTIMENT               0.000000\n",
      "D19_WEIN_FEINKOST               0.000000\n",
      "LNR                             0.000000\n",
      "Length: 366, dtype: float64\n"
     ]
    }
   ],
   "source": [
    "# get dstirbution of empty data in fields by percentage\n",
    "plt.figure(figsize=(10,5))\n",
    "plt.hist(azdias_null_percent, bins = np.linspace(10,100,19), facecolor='g', alpha=0.75)\n",
    "\n",
    "\n",
    "plt.xlabel('% of missing value')\n",
    "plt.ylabel('# of Columns')\n",
    "plt.title('Distribution of missing data in each column')\n",
    "plt.grid(True)\n",
    "\n",
    "plt.show()\n",
    "\n",
    "# % of missing data in columns\n",
    "print('% of missing data in columns','\\n',azdias_null_percent.sort_values(ascending=False))"
   ]
  },
  {
   "cell_type": "code",
   "execution_count": 10,
   "metadata": {},
   "outputs": [
    {
     "data": {
      "text/plain": [
       "Text(0.5,0,'prop. of missing values')"
      ]
     },
     "execution_count": 10,
     "metadata": {},
     "output_type": "execute_result"
    },
    {
     "data": {
      "image/png": "[encoded data removed]",
      "text/plain": [
       "<matplotlib.figure.Figure at 0x7f8c62544e80>"
      ]
     },
     "metadata": {
      "needs_background": "light"
     },
     "output_type": "display_data"
    }
   ],
   "source": [
    "# above we have already identified %  of nan/null values columnwise\n",
    "# let's visualise the distribution trend \n",
    "column_nans = azdias.isnull().mean()\n",
    "\n",
    "plt.hist(column_nans, bins = np.arange(0,1+.05,.05))\n",
    "plt.ylabel('# of features')\n",
    "plt.xlabel('prop. of missing values')"
   ]
  },
  {
   "cell_type": "code",
   "execution_count": 13,
   "metadata": {},
   "outputs": [
    {
     "name": "stdout",
     "output_type": "stream",
     "text": [
      "columns having  missing values >0% :  273\n",
      "columns having  missing values >10%:  237\n",
      "columns having  missing values >20%:  16\n",
      "columns having  missing values >30%:  6\n",
      "columns having  missing values >40%:  6\n",
      "columns having  missing values >60%:  6\n",
      "columns having  missing values >65%:  6\n",
      "columns having  missing values >80%:  4\n",
      "columns having  missing values >90%:  4\n"
     ]
    }
   ],
   "source": [
    "# From review of data in last 2 cells, we can find that % of null data in columns ranges from 0.* to 17% \n",
    "# but after that there is drastic difference in % of null fields clearly highlighting outliers. \n",
    "# Let's print missing % distribution manually to understand if outlier is evidently visible or further analysis/deep dive required\n",
    "print('columns having  missing values >0% : ',len(azdias_null_percent[azdias_null_percent>0].index))\n",
    "\n",
    "print('columns having  missing values >10%: ',len(azdias_null_percent[azdias_null_percent>10].index))\n",
    "print('columns having  missing values >20%: ',len(azdias_null_percent[azdias_null_percent>20].index))\n",
    "print('columns having  missing values >30%: ',len(azdias_null_percent[azdias_null_percent>30].index))\n",
    "print('columns having  missing values >40%: ',len(azdias_null_percent[azdias_null_percent>40].index))\n",
    "print('columns having  missing values >60%: ',len(azdias_null_percent[azdias_null_percent>60].index))\n",
    "print('columns having  missing values >65%: ',len(azdias_null_percent[azdias_null_percent>65].index))\n",
    "print('columns having  missing values >80%: ',len(azdias_null_percent[azdias_null_percent>80].index))\n",
    "print('columns having  missing values >90%: ',len(azdias_null_percent[azdias_null_percent>90].index))"
   ]
  },
  {
   "cell_type": "code",
   "execution_count": 14,
   "metadata": {},
   "outputs": [
    {
     "data": {
      "text/plain": [
       "Text(0.5,0,'# of missing values')"
      ]
     },
     "execution_count": 14,
     "metadata": {},
     "output_type": "execute_result"
    },
    {
     "data": {
      "image/png": "[encoded data removed]",
      "text/plain": [
       "<matplotlib.figure.Figure at 0x7fd6a02680b8>"
      ]
     },
     "metadata": {
      "needs_background": "light"
     },
     "output_type": "display_data"
    }
   ],
   "source": [
    "# distribution analysis on row level\n",
    "\n",
    "row_nans = azdias.isnull().sum(axis=1)\n",
    "plt.hist(row_nans, bins = np.arange(-0.5,row_nans.max()+1,1))\n",
    "plt.yticks(np.arange(0,300000+100000,100000),['0','100k','200k','300k'])\n",
    "plt.ylabel('# of data points')\n",
    "plt.xlabel('# of missing values')"
   ]
  },
  {
   "cell_type": "code",
   "execution_count": 12,
   "metadata": {},
   "outputs": [
    {
     "data": {
      "text/plain": [
       "Text(0.5,0,'# of missing values')"
      ]
     },
     "execution_count": 12,
     "metadata": {},
     "output_type": "execute_result"
    },
    {
     "data": {
      "image/png": "[encoded data removed]",
      "text/plain": [
       "<matplotlib.figure.Figure at 0x7fd6a05924a8>"
      ]
     },
     "metadata": {
      "needs_background": "light"
     },
     "output_type": "display_data"
    }
   ],
   "source": [
    "# as 0 has most of the data, we are unable to see rest of the trend in detail. So plotting distribution without 0 missin values\n",
    "# from below chart we can that around 9ish trend starts changing.\n",
    "\n",
    "row_nans = azdias[azdias.isnull().sum(axis=1) > 0].isnull().sum(axis=1)\n",
    "plt.hist(row_nans, bins = np.arange(-0.5,row_nans.max()+1,1))\n",
    "plt.ylabel('# of data points')\n",
    "plt.xlabel('# of missing values')\n"
   ]
  },
  {
   "cell_type": "code",
   "execution_count": 11,
   "metadata": {},
   "outputs": [
    {
     "name": "stdout",
     "output_type": "stream",
     "text": [
      "Percentage of data kept: 0      0.0\n",
      "1      0.0\n",
      "2      1.0\n",
      "3      3.0\n",
      "4     17.0\n",
      "5     38.0\n",
      "6     56.0\n",
      "7     62.0\n",
      "8     63.0\n",
      "9     64.0\n",
      "10    64.0\n",
      "11    64.0\n",
      "12    65.0\n",
      "13    65.0\n",
      "14    65.0\n",
      "15    73.0\n",
      "16    82.0\n",
      "17    83.0\n",
      "18    83.0\n",
      "19    83.0\n",
      "20    84.0\n",
      "21    84.0\n",
      "22    84.0\n",
      "23    84.0\n",
      "24    84.0\n",
      "25    84.0\n",
      "26    84.0\n",
      "27    84.0\n",
      "28    84.0\n",
      "29    84.0\n",
      "dtype: float64\n"
     ]
    }
   ],
   "source": [
    "# let's see this in a slightly different way.\n",
    "# Calculate percentage of data kept for rows with * or less missing data points\n",
    "# from below we can see that % of data kept for rows with various number of missing data points (in asc order)\n",
    "# from this we can see that around 16% this more or less stagnates and increase in number of columns does not directly increase % of data kept.\n",
    "# so we will use this as an indicator to help us choose the threshold limit.\n",
    "\n",
    "print(\"Percentage of data kept:\",round(azdias.isnull().sum(axis=1).value_counts().sort_index().cumsum()[:30]/azdias.isnull().sum(axis=1).shape[0]*100,0))"
   ]
  },
  {
   "cell_type": "markdown",
   "metadata": {},
   "source": [
    "## Data Preprocessing"
   ]
  },
  {
   "cell_type": "code",
   "execution_count": 12,
   "metadata": {},
   "outputs": [
    {
     "name": "stdout",
     "output_type": "stream",
     "text": [
      "number of rows in new dataset:  733227\n"
     ]
    }
   ],
   "source": [
    "azdias = azdias[azdias.isnull().sum(axis=1) <= 16].reset_index(drop=True)\n",
    "#azdias_dropped = azdias[azdias.isnull().sum(axis=1) > 9].reset_index(drop=True)\n",
    "print('number of rows in new dataset: ',azdias.shape[0])\n",
    "#print('number of rows dropped: ', azdias_dropped.shape[0])"
   ]
  },
  {
   "cell_type": "code",
   "execution_count": 13,
   "metadata": {},
   "outputs": [
    {
     "name": "stdout",
     "output_type": "stream",
     "text": [
      "columns to drop:  Index(['ALTER_KIND1', 'ALTER_KIND2', 'ALTER_KIND3', 'ALTER_KIND4', 'EXTSEL992',\n",
      "       'KK_KUNDENTYP'],\n",
      "      dtype='object')\n"
     ]
    }
   ],
   "source": [
    "# from above we can see that there is significant difference on % of data missing. >65 is only 6 columns and this is a significant missing data\n",
    "# so let's drop these 6 columns\n",
    "\n",
    "drop_cols = azdias.columns[column_nans > 0.65]\n",
    "print('columns to drop: ', drop_cols)"
   ]
  },
  {
   "cell_type": "code",
   "execution_count": 52,
   "metadata": {},
   "outputs": [
    {
     "name": "stdout",
     "output_type": "stream",
     "text": [
      "number of rows in new dataset:  733227\n"
     ]
    }
   ],
   "source": [
    "print('number of rows in new dataset: ',azdias.shape[0])"
   ]
  },
  {
   "cell_type": "code",
   "execution_count": 14,
   "metadata": {},
   "outputs": [],
   "source": [
    "# Before dropping data on azdias lets preprocess customers dataset and get it ready for further processing\n",
    "# Drop the extra column of customers dataset.\n",
    "\n",
    "customers.drop(columns=['CUSTOMER_GROUP', 'ONLINE_PURCHASE', 'PRODUCT_GROUP'], inplace=True)"
   ]
  },
  {
   "cell_type": "code",
   "execution_count": 15,
   "metadata": {},
   "outputs": [
    {
     "name": "stdout",
     "output_type": "stream",
     "text": [
      "# of column in azdias before dropping:  366\n",
      "# of column in azdias after dropping:  360\n",
      "# of column in customers before dropping:  366\n",
      "# of column in customers after dropping:  360\n"
     ]
    }
   ],
   "source": [
    "print('# of column in azdias before dropping: ', len(azdias.columns))\n",
    "azdias = azdias.drop(drop_cols,axis=1)\n",
    "print('# of column in azdias after dropping: ', len(azdias.columns))\n",
    "\n",
    "print('# of column in customers before dropping: ', len(customers.columns))\n",
    "customers = customers.drop(drop_cols,axis=1)\n",
    "print('# of column in customers after dropping: ', len(customers.columns))\n"
   ]
  },
  {
   "cell_type": "code",
   "execution_count": 16,
   "metadata": {},
   "outputs": [
    {
     "name": "stdout",
     "output_type": "stream",
     "text": [
      "number of rows in new dataset:  (733227, 360)\n",
      "number of rows in new dataset:  (191652, 360)\n"
     ]
    }
   ],
   "source": [
    "print('number of rows in new dataset: ',azdias.shape)\n",
    "print('number of rows in new dataset: ',customers.shape)"
   ]
  },
  {
   "cell_type": "code",
   "execution_count": 17,
   "metadata": {},
   "outputs": [],
   "source": [
    "# object field EINGEFUEGT_AM has too many different items. Dropping from dataset\n",
    "\n",
    "azdias = azdias.drop(['EINGEFUEGT_AM'],axis=1)\n",
    "customers = customers.drop(['EINGEFUEGT_AM'],axis=1)"
   ]
  },
  {
   "cell_type": "code",
   "execution_count": 18,
   "metadata": {},
   "outputs": [],
   "source": [
    "# object field D19_LETZTER_KAUF_BRANCHE has many different items. Dropping from dataset\n",
    "\n",
    "azdias = azdias.drop(['D19_LETZTER_KAUF_BRANCHE'],axis=1)\n",
    "customers = customers.drop(['D19_LETZTER_KAUF_BRANCHE'],axis=1)"
   ]
  },
  {
   "cell_type": "code",
   "execution_count": 19,
   "metadata": {},
   "outputs": [
    {
     "name": "stdout",
     "output_type": "stream",
     "text": [
      "number of columns 238\n",
      "number of columns 256\n",
      "CPU times: user 5min 50s, sys: 13.2 s, total: 6min 4s\n",
      "Wall time: 7min 47s\n"
     ]
    }
   ],
   "source": [
    "%%time\n",
    "# introducing this new clean up step - as without this we end up with 406 columns after one-hot encoding\n",
    "# reduce number of columns further by trying to removing highly correlated columns\n",
    "# idea and approach from Chris Albon's website https://chrisalbon.com/machine_learning/feature_selection/drop_highly_correlated_features/\n",
    "\n",
    "\n",
    "# find correlation matrix    \n",
    "corr_matrix = azdias.corr().abs()\n",
    "upper_limit = corr_matrix.where(np.triu(np.ones(corr_matrix.shape), k=1).astype(np.bool))\n",
    "# identify columns to drop based on threshold limit\n",
    "drop_columns = [column for column in upper_limit.columns if any(upper_limit[column] > .7)]\n",
    "# drop columns from azdias\n",
    "azdias = azdias.drop(drop_columns, axis=1)\n",
    "print('number of columns', len(azdias.columns))\n",
    "\n",
    "# repeat for customers\n",
    "# find correlation matrix    \n",
    "corr_matrix = customers.corr().abs()\n",
    "upper_limit = corr_matrix.where(np.triu(np.ones(corr_matrix.shape), k=1).astype(np.bool))\n",
    "# identify columns to drop based on threshold limit\n",
    "drop_columns = [column for column in upper_limit.columns if any(upper_limit[column] > .7)]\n",
    "# drop columns from azdias\n",
    "customers = customers.drop(drop_columns, axis=1)\n",
    "print('number of columns', len(customers.columns))\n"
   ]
  },
  {
   "cell_type": "code",
   "execution_count": 20,
   "metadata": {},
   "outputs": [
    {
     "name": "stdout",
     "output_type": "stream",
     "text": [
      "number of rows in new dataset:  (733227, 238)\n",
      "number of rows in new dataset:  (191652, 256)\n"
     ]
    }
   ],
   "source": [
    "print('number of rows in new dataset: ',azdias.shape)\n",
    "print('number of rows in new dataset: ',customers.shape)"
   ]
  },
  {
   "cell_type": "code",
   "execution_count": null,
   "metadata": {},
   "outputs": [],
   "source": [
    "# we have removed columns that has mostly missing values and do not add value. Let's explore columns with object data type.\n",
    "azdias.select_dtypes(include=['object'])"
   ]
  },
  {
   "cell_type": "code",
   "execution_count": null,
   "metadata": {},
   "outputs": [],
   "source": [
    "len(azdias['EINGEFUEGT_AM'].unique())"
   ]
  },
  {
   "cell_type": "code",
   "execution_count": null,
   "metadata": {},
   "outputs": [],
   "source": [
    "len(azdias['D19_LETZTER_KAUF_BRANCHE'].unique())"
   ]
  },
  {
   "cell_type": "code",
   "execution_count": 58,
   "metadata": {},
   "outputs": [
    {
     "name": "stdout",
     "output_type": "stream",
     "text": [
      "number of columns 238\n"
     ]
    }
   ],
   "source": [
    "print('number of columns', len(azdias.columns))"
   ]
  },
  {
   "cell_type": "code",
   "execution_count": null,
   "metadata": {},
   "outputs": [],
   "source": [
    "#customers['PRODUCT_GROUP']"
   ]
  },
  {
   "cell_type": "code",
   "execution_count": 28,
   "metadata": {},
   "outputs": [
    {
     "data": {
      "text/html": [
       "<div>\n",
       "<style scoped>\n",
       "    .dataframe tbody tr th:only-of-type {\n",
       "        vertical-align: middle;\n",
       "    }\n",
       "\n",
       "    .dataframe tbody tr th {\n",
       "        vertical-align: top;\n",
       "    }\n",
       "\n",
       "    .dataframe thead th {\n",
       "        text-align: right;\n",
       "    }\n",
       "</style>\n",
       "<table border=\"1\" class=\"dataframe\">\n",
       "  <thead>\n",
       "    <tr style=\"text-align: right;\">\n",
       "      <th></th>\n",
       "      <th>CAMEO_DEU_2015</th>\n",
       "      <th>CAMEO_DEUG_2015</th>\n",
       "      <th>CAMEO_INTL_2015</th>\n",
       "      <th>OST_WEST_KZ</th>\n",
       "    </tr>\n",
       "  </thead>\n",
       "  <tbody>\n",
       "    <tr>\n",
       "      <th>0</th>\n",
       "      <td>1A</td>\n",
       "      <td>1</td>\n",
       "      <td>13</td>\n",
       "      <td>W</td>\n",
       "    </tr>\n",
       "    <tr>\n",
       "      <th>1</th>\n",
       "      <td>NaN</td>\n",
       "      <td>NaN</td>\n",
       "      <td>NaN</td>\n",
       "      <td>NaN</td>\n",
       "    </tr>\n",
       "    <tr>\n",
       "      <th>2</th>\n",
       "      <td>5D</td>\n",
       "      <td>5</td>\n",
       "      <td>34</td>\n",
       "      <td>W</td>\n",
       "    </tr>\n",
       "    <tr>\n",
       "      <th>3</th>\n",
       "      <td>4C</td>\n",
       "      <td>4</td>\n",
       "      <td>24</td>\n",
       "      <td>W</td>\n",
       "    </tr>\n",
       "    <tr>\n",
       "      <th>4</th>\n",
       "      <td>7B</td>\n",
       "      <td>7</td>\n",
       "      <td>41</td>\n",
       "      <td>W</td>\n",
       "    </tr>\n",
       "  </tbody>\n",
       "</table>\n",
       "</div>"
      ],
      "text/plain": [
       "  CAMEO_DEU_2015 CAMEO_DEUG_2015 CAMEO_INTL_2015 OST_WEST_KZ\n",
       "0             1A               1              13           W\n",
       "1            NaN             NaN             NaN         NaN\n",
       "2             5D               5              34           W\n",
       "3             4C               4              24           W\n",
       "4             7B               7              41           W"
      ]
     },
     "execution_count": 28,
     "metadata": {},
     "output_type": "execute_result"
    }
   ],
   "source": [
    "customers.select_dtypes(include=['object']).head()\n",
    "#customers = customers.drop(['CUSTOMER_GROUP', 'ONLINE_PURCHASE','PRODUCT_GROUP'])"
   ]
  },
  {
   "cell_type": "code",
   "execution_count": 59,
   "metadata": {},
   "outputs": [
    {
     "name": "stdout",
     "output_type": "stream",
     "text": [
      "num_cols:  Index(['LNR', 'AGER_TYP', 'AKT_DAT_KL', 'ALTER_HH', 'ALTERSKATEGORIE_FEIN',\n",
      "       'ANZ_HAUSHALTE_AKTIV', 'ANZ_HH_TITEL', 'ANZ_KINDER', 'ANZ_PERSONEN',\n",
      "       'ANZ_TITEL',\n",
      "       ...\n",
      "       'UMFELD_ALT', 'UMFELD_JUNG', 'UNGLEICHENN_FLAG', 'VERDICHTUNGSRAUM',\n",
      "       'VERS_TYP', 'VHA', 'VHN', 'W_KEIT_KIND_HH', 'WOHNLAGE', 'ZABEOTYP'],\n",
      "      dtype='object', length=234)\n",
      "categorical:  ['CAMEO_DEUG_2015', 'OST_WEST_KZ', 'CAMEO_INTL_2015', 'CAMEO_DEU_2015']\n"
     ]
    }
   ],
   "source": [
    "# before going ahead with encoding we need to find categorical fields - below 1 hack option to do it\n",
    "\n",
    "cols = azdias.columns\n",
    "num_cols = azdias._get_numeric_data().columns\n",
    "print('num_cols: ',num_cols)\n",
    "print('categorical: ',list(set(cols) - set(num_cols)))"
   ]
  },
  {
   "cell_type": "code",
   "execution_count": 21,
   "metadata": {},
   "outputs": [],
   "source": [
    "# we need to fill missing values here. We will fill missing values with -1 indicating unknown as in the description.\n",
    "\n",
    "azdias[['CAMEO_DEUG_2015','CAMEO_INTL_2015']] = azdias[['CAMEO_DEUG_2015','CAMEO_INTL_2015']].replace(['X','XX'],-1)\n",
    "customers[['CAMEO_DEUG_2015','CAMEO_INTL_2015']] = customers[['CAMEO_DEUG_2015','CAMEO_INTL_2015']].replace(['X','XX'],-1)\n",
    "azdias[['CAMEO_DEUG_2015','CAMEO_INTL_2015']] = azdias[['CAMEO_DEUG_2015','CAMEO_INTL_2015']].fillna(-1)\n",
    "customers[['CAMEO_DEUG_2015','CAMEO_INTL_2015']] = customers[['CAMEO_DEUG_2015','CAMEO_INTL_2015']].fillna(-1)\n",
    "azdias[['CAMEO_DEUG_2015','CAMEO_INTL_2015']] = azdias[['CAMEO_DEUG_2015','CAMEO_INTL_2015']].astype(int)\n",
    "customers[['CAMEO_DEUG_2015','CAMEO_INTL_2015']] = customers[['CAMEO_DEUG_2015','CAMEO_INTL_2015']].astype(int)\n",
    "azdias[['CAMEO_DEU_2015','OST_WEST_KZ']]=azdias[['CAMEO_DEU_2015','OST_WEST_KZ']].fillna(-1)\n",
    "customers[['CAMEO_DEU_2015','OST_WEST_KZ']]=customers[['CAMEO_DEU_2015','OST_WEST_KZ']].fillna(-1)\n"
   ]
  },
  {
   "cell_type": "code",
   "execution_count": null,
   "metadata": {},
   "outputs": [],
   "source": [
    "customers.isnull().sum()"
   ]
  },
  {
   "cell_type": "code",
   "execution_count": null,
   "metadata": {},
   "outputs": [],
   "source": [
    "azdias.isnull().sum()"
   ]
  },
  {
   "cell_type": "code",
   "execution_count": 22,
   "metadata": {},
   "outputs": [],
   "source": [
    "# fillna with 9 for fields that has 9 marked as unknown\n",
    "\n",
    "azdias[azdias.columns[(azdias==9).any()]] = azdias[azdias.columns[(azdias==9).any()]].fillna(9)\n",
    "customers[customers.columns[(customers==9).any()]] = customers[customers.columns[(customers==9).any()]].fillna(9)"
   ]
  },
  {
   "cell_type": "code",
   "execution_count": null,
   "metadata": {},
   "outputs": [],
   "source": [
    "#print('isnan on columns with 9 as unknown',azdias[azdias.columns[(azdias==9).any()]].isnull().any())"
   ]
  },
  {
   "cell_type": "code",
   "execution_count": 23,
   "metadata": {},
   "outputs": [
    {
     "name": "stdout",
     "output_type": "stream",
     "text": [
      "CPU times: user 8.56 s, sys: 3.53 s, total: 12.1 s\n",
      "Wall time: 12.3 s\n"
     ]
    }
   ],
   "source": [
    "%%time\n",
    "# fillna with 0 for fields that has 0 marked as unknown\n",
    "\n",
    "azdias[azdias.columns[(azdias==0).any()]] = azdias[azdias.columns[(azdias==0).any()]].fillna(0)\n",
    "customers[customers.columns[(customers==0).any()]] = customers[customers.columns[(customers==0).any()]].fillna(0)"
   ]
  },
  {
   "cell_type": "code",
   "execution_count": 24,
   "metadata": {},
   "outputs": [
    {
     "name": "stdout",
     "output_type": "stream",
     "text": [
      "CPU times: user 7.21 s, sys: 2.51 s, total: 9.71 s\n",
      "Wall time: 9.78 s\n"
     ]
    }
   ],
   "source": [
    "%%time\n",
    "# fillna with -1 for fields that has 0 marked as unknown\n",
    "\n",
    "azdias[azdias.columns[(azdias==-1).any()]] = azdias[azdias.columns[(azdias==-1).any()]].fillna(-1)\n",
    "customers[customers.columns[(customers==-1).any()]] = customers[customers.columns[(customers==-1).any()]].fillna(-1)"
   ]
  },
  {
   "cell_type": "code",
   "execution_count": 67,
   "metadata": {},
   "outputs": [],
   "source": [
    "#azdias_before_dummies = azdias.copy()\n",
    "#customers_before_dummies = customers.copy()"
   ]
  },
  {
   "cell_type": "code",
   "execution_count": 75,
   "metadata": {},
   "outputs": [],
   "source": [
    "#azdias = azdias_before_dummies.copy()\n",
    "#customers = customers_before_dummies.copy()"
   ]
  },
  {
   "cell_type": "code",
   "execution_count": null,
   "metadata": {},
   "outputs": [],
   "source": [
    "#print('number of rows in new dataset: ',azdias_before_dummies.shape)\n",
    "#print('number of rows in new dataset: ',customers_before_dummies.shape)"
   ]
  },
  {
   "cell_type": "code",
   "execution_count": 25,
   "metadata": {},
   "outputs": [
    {
     "name": "stdout",
     "output_type": "stream",
     "text": [
      "CPU times: user 1.31 s, sys: 4.22 s, total: 5.53 s\n",
      "Wall time: 19.1 s\n"
     ]
    }
   ],
   "source": [
    "%%time\n",
    "#with  all null data now handled, we should focus on getting objects/categorical variables to numbers via one hot encoding\n",
    "\n",
    "azdias = pd.get_dummies(azdias)\n",
    "customers = pd.get_dummies(customers)"
   ]
  },
  {
   "cell_type": "code",
   "execution_count": 26,
   "metadata": {},
   "outputs": [
    {
     "name": "stdout",
     "output_type": "stream",
     "text": [
      "number of rows in new dataset:  (733227, 284)\n",
      "number of rows in new dataset:  (191652, 303)\n"
     ]
    }
   ],
   "source": [
    "print('number of rows in new dataset: ',azdias.shape)\n",
    "print('number of rows in new dataset: ',customers.shape)"
   ]
  },
  {
   "cell_type": "code",
   "execution_count": 37,
   "metadata": {},
   "outputs": [
    {
     "name": "stdout",
     "output_type": "stream",
     "text": [
      "Index(['LNR', 'AGER_TYP', 'AKT_DAT_KL', 'ALTER_HH', 'ALTERSKATEGORIE_FEIN',\n",
      "       'ANZ_HAUSHALTE_AKTIV', 'ANZ_HH_TITEL', 'ANZ_KINDER', 'ANZ_PERSONEN',\n",
      "       'ANZ_TITEL',\n",
      "       ...\n",
      "       'CAMEO_DEU_2015_8C', 'CAMEO_DEU_2015_8D', 'CAMEO_DEU_2015_9A',\n",
      "       'CAMEO_DEU_2015_9B', 'CAMEO_DEU_2015_9C', 'CAMEO_DEU_2015_9D',\n",
      "       'CAMEO_DEU_2015_9E', 'CAMEO_DEU_2015_XX', 'OST_WEST_KZ_O',\n",
      "       'OST_WEST_KZ_W'],\n",
      "      dtype='object', length=285)\n"
     ]
    }
   ],
   "source": [
    "print(azdias.columns)"
   ]
  },
  {
   "cell_type": "code",
   "execution_count": 38,
   "metadata": {
    "scrolled": true
   },
   "outputs": [
    {
     "name": "stdout",
     "output_type": "stream",
     "text": [
      "Index(['LNR', 'AGER_TYP', 'AKT_DAT_KL', 'ALTER_HH', 'ALTERSKATEGORIE_FEIN',\n",
      "       'ANZ_HAUSHALTE_AKTIV', 'ANZ_HH_TITEL', 'ANZ_KINDER', 'ANZ_PERSONEN',\n",
      "       'ANZ_TITEL',\n",
      "       ...\n",
      "       'CAMEO_DEU_2015_8D', 'CAMEO_DEU_2015_9A', 'CAMEO_DEU_2015_9B',\n",
      "       'CAMEO_DEU_2015_9C', 'CAMEO_DEU_2015_9D', 'CAMEO_DEU_2015_9E',\n",
      "       'CAMEO_DEU_2015_XX', 'OST_WEST_KZ_-1', 'OST_WEST_KZ_O',\n",
      "       'OST_WEST_KZ_W'],\n",
      "      dtype='object', length=303)\n"
     ]
    }
   ],
   "source": [
    "print(customers.columns)"
   ]
  },
  {
   "cell_type": "code",
   "execution_count": null,
   "metadata": {},
   "outputs": [],
   "source": [
    "azdias_columns = azdias.columns\n",
    "customers_columns = customers.columns"
   ]
  },
  {
   "cell_type": "code",
   "execution_count": 27,
   "metadata": {},
   "outputs": [
    {
     "name": "stdout",
     "output_type": "stream",
     "text": [
      "imputed azdias:          0    1    2     3     4     5    6    7    8    9   ...   274  275  \\\n",
      "0  910220.0 -1.0  9.0   0.0  21.0  11.0  0.0  0.0  2.0  0.0 ...   0.0  0.0   \n",
      "1  910225.0 -1.0  9.0  17.0  17.0  10.0  0.0  0.0  1.0  0.0 ...   0.0  0.0   \n",
      "2  910226.0  2.0  1.0  13.0  13.0   1.0  0.0  0.0  0.0  0.0 ...   0.0  0.0   \n",
      "3  910241.0 -1.0  1.0  20.0  14.0   3.0  0.0  0.0  4.0  0.0 ...   0.0  0.0   \n",
      "4  910244.0  3.0  1.0  10.0  10.0   5.0  0.0  0.0  1.0  0.0 ...   1.0  0.0   \n",
      "\n",
      "   276  277  278  279  280  281  282  283  \n",
      "0  0.0  0.0  0.0  0.0  0.0  0.0  0.0  1.0  \n",
      "1  0.0  0.0  0.0  0.0  0.0  0.0  0.0  1.0  \n",
      "2  0.0  0.0  0.0  0.0  0.0  0.0  0.0  1.0  \n",
      "3  0.0  0.0  0.0  0.0  0.0  0.0  0.0  1.0  \n",
      "4  0.0  0.0  0.0  0.0  0.0  0.0  0.0  1.0  \n",
      "\n",
      "[5 rows x 284 columns]\n",
      "imputed customers:          0    1    2     3     4    5    6    7    8    9   ...   293  294  \\\n",
      "0    9626.0  2.0  1.0  10.0  10.0  1.0  0.0  0.0  2.0  0.0 ...   0.0  0.0   \n",
      "1    9628.0 -1.0  9.0  11.0   9.0  9.0  9.0  0.0  3.0  0.0 ...   0.0  0.0   \n",
      "2  143872.0 -1.0  1.0   6.0   0.0  1.0  0.0  0.0  1.0  0.0 ...   0.0  0.0   \n",
      "3  143873.0  1.0  1.0   8.0   8.0  0.0  9.0  0.0  0.0  0.0 ...   0.0  0.0   \n",
      "4  143874.0 -1.0  1.0  20.0  14.0  7.0  0.0  0.0  4.0  0.0 ...   0.0  0.0   \n",
      "\n",
      "   295  296  297  298  299  300  301  302  \n",
      "0  0.0  0.0  0.0  0.0  0.0  0.0  0.0  1.0  \n",
      "1  0.0  0.0  0.0  0.0  0.0  1.0  0.0  0.0  \n",
      "2  0.0  0.0  0.0  0.0  0.0  0.0  0.0  1.0  \n",
      "3  0.0  0.0  0.0  0.0  0.0  0.0  0.0  1.0  \n",
      "4  0.0  0.0  0.0  0.0  0.0  0.0  0.0  1.0  \n",
      "\n",
      "[5 rows x 303 columns]\n"
     ]
    }
   ],
   "source": [
    "# impute nans using mode value\n",
    "\n",
    "imputer = Imputer(missing_values='NaN',strategy='most_frequent',axis=0)\n",
    "\n",
    "azdias = imputer.fit_transform(azdias)\n",
    "azdias = pd.DataFrame(azdias)\n",
    "print('imputed azdias: ', azdias.head(5))\n",
    "\n",
    "customers = imputer.fit_transform(customers)\n",
    "customers = pd.DataFrame(customers)\n",
    "print('imputed customers: ', customers.head(5))\n"
   ]
  },
  {
   "cell_type": "code",
   "execution_count": 28,
   "metadata": {},
   "outputs": [
    {
     "name": "stdout",
     "output_type": "stream",
     "text": [
      "number of rows in new dataset:  (733227, 284)\n",
      "number of rows in new dataset:  (191652, 303)\n"
     ]
    }
   ],
   "source": [
    "print('number of rows in new dataset: ',azdias.shape)\n",
    "print('number of rows in new dataset: ',customers.shape)"
   ]
  },
  {
   "cell_type": "code",
   "execution_count": 29,
   "metadata": {},
   "outputs": [],
   "source": [
    "# convert to int\n",
    "azdias = azdias.astype(int)\n",
    "customers = customers.astype(int)"
   ]
  },
  {
   "cell_type": "markdown",
   "metadata": {},
   "source": [
    "### Remove outlier data"
   ]
  },
  {
   "cell_type": "code",
   "execution_count": 30,
   "metadata": {},
   "outputs": [
    {
     "name": "stdout",
     "output_type": "stream",
     "text": [
      "CPU times: user 6.17 s, sys: 12.8 s, total: 19 s\n",
      "Wall time: 1min 46s\n"
     ]
    }
   ],
   "source": [
    "%%time\n",
    "# detect and exclude outliers in dataframe\n",
    "# as mentioned in https://stackoverflow.com/questions/23199796/detect-and-exclude-outliers-in-pandas-data-frame\n",
    "#  remove all rows that have outliers in at least one column\n",
    "\n",
    "azdias = azdias[(np.abs(stats.zscore(azdias)) < 6).all(axis=1)]\n",
    "customers = customers[(np.abs(stats.zscore(customers)) < 6).all(axis=1)]"
   ]
  },
  {
   "cell_type": "code",
   "execution_count": 31,
   "metadata": {},
   "outputs": [
    {
     "name": "stdout",
     "output_type": "stream",
     "text": [
      "number of rows in new dataset:  (415405, 284)\n",
      "number of rows in new dataset:  (100341, 303)\n"
     ]
    }
   ],
   "source": [
    "print('number of rows in new dataset: ',azdias.shape)\n",
    "print('number of rows in new dataset: ',customers.shape)"
   ]
  },
  {
   "cell_type": "code",
   "execution_count": null,
   "metadata": {},
   "outputs": [],
   "source": [
    "azdias.to_pickle('azdias_before_scaling')\n",
    "customers.to_pickle('customers_before_scaling')"
   ]
  },
  {
   "cell_type": "code",
   "execution_count": 45,
   "metadata": {},
   "outputs": [
    {
     "data": {
      "text/html": [
       "<div>\n",
       "<style scoped>\n",
       "    .dataframe tbody tr th:only-of-type {\n",
       "        vertical-align: middle;\n",
       "    }\n",
       "\n",
       "    .dataframe tbody tr th {\n",
       "        vertical-align: top;\n",
       "    }\n",
       "\n",
       "    .dataframe thead th {\n",
       "        text-align: right;\n",
       "    }\n",
       "</style>\n",
       "<table border=\"1\" class=\"dataframe\">\n",
       "  <thead>\n",
       "    <tr style=\"text-align: right;\">\n",
       "      <th></th>\n",
       "      <th>LNR</th>\n",
       "      <th>AGER_TYP</th>\n",
       "      <th>AKT_DAT_KL</th>\n",
       "      <th>ALTER_HH</th>\n",
       "      <th>ALTERSKATEGORIE_FEIN</th>\n",
       "      <th>ANZ_HAUSHALTE_AKTIV</th>\n",
       "      <th>ANZ_HH_TITEL</th>\n",
       "      <th>ANZ_KINDER</th>\n",
       "      <th>ANZ_PERSONEN</th>\n",
       "      <th>ANZ_TITEL</th>\n",
       "      <th>...</th>\n",
       "      <th>CAMEO_DEU_2015_8C</th>\n",
       "      <th>CAMEO_DEU_2015_8D</th>\n",
       "      <th>CAMEO_DEU_2015_9A</th>\n",
       "      <th>CAMEO_DEU_2015_9B</th>\n",
       "      <th>CAMEO_DEU_2015_9C</th>\n",
       "      <th>CAMEO_DEU_2015_9D</th>\n",
       "      <th>CAMEO_DEU_2015_9E</th>\n",
       "      <th>CAMEO_DEU_2015_XX</th>\n",
       "      <th>OST_WEST_KZ_O</th>\n",
       "      <th>OST_WEST_KZ_W</th>\n",
       "    </tr>\n",
       "  </thead>\n",
       "  <tbody>\n",
       "  </tbody>\n",
       "</table>\n",
       "<p>0 rows × 285 columns</p>\n",
       "</div>"
      ],
      "text/plain": [
       "Empty DataFrame\n",
       "Columns: [LNR, AGER_TYP, AKT_DAT_KL, ALTER_HH, ALTERSKATEGORIE_FEIN, ANZ_HAUSHALTE_AKTIV, ANZ_HH_TITEL, ANZ_KINDER, ANZ_PERSONEN, ANZ_TITEL, ARBEIT, BALLRAUM, CAMEO_DEUG_2015, CAMEO_INTL_2015, CJT_GESAMTTYP, CJT_KATALOGNUTZER, CJT_TYP_1, CJT_TYP_3, CJT_TYP_6, D19_BANKEN_ANZ_12, D19_BANKEN_DIREKT, D19_BANKEN_GROSS, D19_BANKEN_LOKAL, D19_BANKEN_OFFLINE_DATUM, D19_BANKEN_REST, D19_BEKLEIDUNG_GEH, D19_BEKLEIDUNG_REST, D19_BILDUNG, D19_BIO_OEKO, D19_BUCH_CD, D19_DIGIT_SERV, D19_DROGERIEARTIKEL, D19_ENERGIE, D19_FREIZEIT, D19_GARTEN, D19_GESAMT_ANZ_12, D19_GESAMT_OFFLINE_DATUM, D19_HANDWERK, D19_HAUS_DEKO, D19_KINDERARTIKEL, D19_KOSMETIK, D19_LEBENSMITTEL, D19_LOTTO, D19_NAHRUNGSERGAENZUNG, D19_RATGEBER, D19_REISEN, D19_SAMMELARTIKEL, D19_SCHUHE, D19_SONSTIGE, D19_SOZIALES, D19_TECHNIK, D19_TELKO_ANZ_12, D19_TELKO_MOBILE, D19_TELKO_OFFLINE_DATUM, D19_TELKO_ONLINE_DATUM, D19_TELKO_REST, D19_TIERARTIKEL, D19_VERSAND_REST, D19_VERSI_ANZ_12, D19_VERSI_OFFLINE_DATUM, D19_VERSI_ONLINE_DATUM, D19_VERSICHERUNGEN, D19_VOLLSORTIMENT, D19_WEIN_FEINKOST, DSL_FLAG, EINGEZOGENAM_HH_JAHR, EWDICHTE, FINANZ_ANLEGER, FINANZ_HAUSBAUER, FINANZ_MINIMALIST, FINANZTYP, FIRMENDICHTE, GEBAEUDETYP, GEBURTSJAHR, GFK_URLAUBERTYP, GREEN_AVANTGARDE, HEALTH_TYP, HH_DELTA_FLAG, HH_EINKOMMEN_SCORE, KBA05_ALTER1, KBA05_ALTER2, KBA05_ALTER3, KBA05_ALTER4, KBA05_ANHANG, KBA05_ANTG1, KBA05_ANTG2, KBA05_ANTG3, KBA05_ANTG4, KBA05_BAUMAX, KBA05_CCM1, KBA05_CCM2, KBA05_CCM3, KBA05_CCM4, KBA05_FRAU, KBA05_GBZ, KBA05_HERST1, KBA05_HERST2, KBA05_HERST3, KBA05_HERST4, KBA05_HERST5, ...]\n",
       "Index: []\n",
       "\n",
       "[0 rows x 285 columns]"
      ]
     },
     "execution_count": 45,
     "metadata": {},
     "output_type": "execute_result"
    }
   ],
   "source": [
    "# do a check of missing values\n",
    "#azdias.columns[azdias.isnull().any()]\n",
    "azdias.head()"
   ]
  },
  {
   "cell_type": "markdown",
   "metadata": {},
   "source": [
    "### Standardize data\n",
    "#### Standardize features by removing the mean and scaling to unit variance"
   ]
  },
  {
   "cell_type": "code",
   "execution_count": 33,
   "metadata": {},
   "outputs": [
    {
     "name": "stdout",
     "output_type": "stream",
     "text": [
      "CPU times: user 47.3 s, sys: 2min 1s, total: 2min 48s\n",
      "Wall time: 7min 3s\n"
     ]
    }
   ],
   "source": [
    "%%time\n",
    "# scale the data\n",
    "scale = StandardScaler(copy=False)\n",
    "\n",
    "#scale = MinMaxScaler(copy=False)\n",
    "azdias[azdias.columns] = scale.fit_transform(azdias)"
   ]
  },
  {
   "cell_type": "code",
   "execution_count": null,
   "metadata": {},
   "outputs": [],
   "source": [
    "azdias.columns = azdias_columns"
   ]
  },
  {
   "cell_type": "code",
   "execution_count": 34,
   "metadata": {},
   "outputs": [
    {
     "name": "stdout",
     "output_type": "stream",
     "text": [
      "CPU times: user 12 s, sys: 26 s, total: 38 s\n",
      "Wall time: 47.2 s\n"
     ]
    }
   ],
   "source": [
    "%%time\n",
    "# scale the data\n",
    "#scale = StandardScaler()\n",
    "customers[customers.columns] = scale.fit_transform(customers)"
   ]
  },
  {
   "cell_type": "code",
   "execution_count": 36,
   "metadata": {},
   "outputs": [],
   "source": [
    "azdias.to_pickle('azdias_scaled')\n",
    "customers.to_pickle('customers_scaled')"
   ]
  },
  {
   "cell_type": "code",
   "execution_count": 67,
   "metadata": {},
   "outputs": [
    {
     "data": {
      "text/plain": [
       "RangeIndex(start=0, stop=284, step=1)"
      ]
     },
     "execution_count": 67,
     "metadata": {},
     "output_type": "execute_result"
    }
   ],
   "source": [
    "azdias_columns"
   ]
  },
  {
   "cell_type": "markdown",
   "metadata": {},
   "source": [
    "## Implementation\n",
    "\n",
    "#### So far we have done various analysis and testing of data processing procedures. Now let us finalize the custom processing steps required to clean datasets related to this project and get the data ready for training and/or prediction"
   ]
  },
  {
   "cell_type": "code",
   "execution_count": 5,
   "metadata": {},
   "outputs": [],
   "source": [
    "def data_preprocess_2(df, for_clustering, df_name=None):\n",
    "    \n",
    "    if for_clustering:\n",
    "        if df_name == 'azdias':\n",
    "            df = df[df.isnull().sum(axis=1) <= 16].reset_index(drop=True)\n",
    "        elif df_name == 'customers':            \n",
    "            df.drop(columns=['CUSTOMER_GROUP', 'ONLINE_PURCHASE', 'PRODUCT_GROUP'], inplace=True)\n",
    "        \n",
    "    #column_nans = df.isnull().mean()\n",
    "    drop_cols = ['ALTER_KIND1', 'ALTER_KIND2', 'ALTER_KIND3', 'ALTER_KIND4', 'EXTSEL992','KK_KUNDENTYP']\n",
    "    \n",
    "    df = df.drop(drop_cols,axis=1)\n",
    "    df = df.drop(['EINGEFUEGT_AM'],axis=1)\n",
    "    df = df.drop(['D19_LETZTER_KAUF_BRANCHE'],axis=1)\n",
    "\n",
    "\n",
    "    # find correlation matrix    \n",
    "    corr_matrix = df.corr().abs()\n",
    "    upper_limit = corr_matrix.where(np.triu(np.ones(corr_matrix.shape), k=1).astype(np.bool))\n",
    "    # identify columns to drop based on threshold limit\n",
    "    drop_columns = [column for column in upper_limit.columns if any(upper_limit[column] > .7)]\n",
    "    # drop columns from df\n",
    "    df = df.drop(drop_columns, axis=1)\n",
    "    print('shape after corr', df.shape)\n",
    "\n",
    "\n",
    "    # we need to fill missing values here. We will fill missing values with -1 indicating unknown as in the description.\n",
    "    df[['CAMEO_DEUG_2015','CAMEO_INTL_2015']] = df[['CAMEO_DEUG_2015','CAMEO_INTL_2015']].replace(['X','XX'],-1)\n",
    "    df[['CAMEO_DEUG_2015','CAMEO_INTL_2015']] = df[['CAMEO_DEUG_2015','CAMEO_INTL_2015']].fillna(-1)\n",
    "    df[['CAMEO_DEUG_2015','CAMEO_INTL_2015']] = df[['CAMEO_DEUG_2015','CAMEO_INTL_2015']].astype(int)\n",
    "    df[['CAMEO_DEU_2015','OST_WEST_KZ']]=df[['CAMEO_DEU_2015','OST_WEST_KZ']].fillna(-1)\n",
    "\n",
    "\n",
    "\n",
    "    # fillna with 9 for fields that has 9 marked as unknown\n",
    "    df[df.columns[(df==9).any()]] = df[df.columns[(df==9).any()]].fillna(9)\n",
    "\n",
    "    # fillna with 0 for fields that has 0 marked as unknown\n",
    "    df[df.columns[(df==0).any()]] = df[df.columns[(df==0).any()]].fillna(0)\n",
    "\n",
    "    # fillna with -1 for fields that has 0 marked as unknown\n",
    "    df[df.columns[(df==-1).any()]] = df[df.columns[(df==-1).any()]].fillna(-1)\n",
    "\n",
    "\n",
    "    \n",
    "    #print('col name before: ', df.columns)\n",
    "    #with  all null data now handled, we should focus on getting objects/categorical variables to numbers via one hot encoding\n",
    "    df = pd.get_dummies(df)\n",
    "    #print('col name after: ', df.columns)\n",
    "    print('shape after one-hot', df.shape)\n",
    "    \n",
    "    df_columns = list(df.columns.values)\n",
    "\n",
    "    # impute nans using mode value\n",
    "    imputer = Imputer(missing_values='NaN',strategy='most_frequent',axis=0)\n",
    "    df = imputer.fit_transform(df)\n",
    "    df = pd.DataFrame(df)\n",
    "    #print('imputed dataframe: ', df.head(5))\n",
    "    print('shape after impute', df.shape)\n",
    "    \n",
    "    \n",
    "    \n",
    "    # convert to int\n",
    "    df = df.astype(int)\n",
    "\n",
    "\n",
    "    # detect and exclude outliers in dataframe\n",
    "    # as mentioned in https://stackoverflow.com/questions/23199796/detect-and-exclude-outliers-in-pandas-data-frame\n",
    "    #  remove all rows that have outliers in at least one column   \n",
    "    if for_clustering:\n",
    "        print('inside outliers if')\n",
    "        df = df[(np.abs(stats.zscore(df)) < 6).all(axis=1)] \n",
    "        print('shape before scaling', df.shape)\n",
    "    # scale the data\n",
    "    scale = StandardScaler(copy=False)\n",
    "    scaled = scale.fit_transform(df)\n",
    "    df = pd.DataFrame(scaled,columns= df_columns)\n",
    "    print('shape after scaling', df.shape)\n",
    "    #else:\n",
    "    #    df.columns = df_columns\n",
    "        \n",
    "    df = df.set_index('LNR')\n",
    "    return df"
   ]
  },
  {
   "cell_type": "markdown",
   "metadata": {},
   "source": [
    "#### Clean azdias - general population dataset"
   ]
  },
  {
   "cell_type": "code",
   "execution_count": 6,
   "metadata": {},
   "outputs": [
    {
     "name": "stdout",
     "output_type": "stream",
     "text": [
      "shape after corr (733227, 238)\n",
      "shape after one-hot (733227, 284)\n",
      "shape after impute (733227, 284)\n",
      "inside outliers if\n",
      "shape before scaling (415405, 284)\n",
      "shape after scaling (415405, 284)\n",
      "(415405, 283)\n",
      "          AGER_TYP  AKT_DAT_KL  ALTER_HH  ALTERSKATEGORIE_FEIN  \\\n",
      "LNR                                                              \n",
      "1.044527 -0.549413    1.155132  0.831893              0.911269   \n",
      "1.044589 -0.549413   -1.017213  1.223909              0.285868   \n",
      "1.044600  2.747309   -1.017213 -0.082810             -0.547999   \n",
      "1.044616 -0.549413    1.155132 -1.389529             -0.756466   \n",
      "1.044666 -0.549413   -1.017213  0.439878              0.285868   \n",
      "\n",
      "          ANZ_HAUSHALTE_AKTIV  ANZ_HH_TITEL  ANZ_KINDER  ANZ_PERSONEN  \\\n",
      "LNR                                                                     \n",
      "1.044527             0.170790     -0.142864   -0.281792     -0.610158   \n",
      "1.044589            -0.488492     -0.142864   -0.281792      2.240974   \n",
      "1.044600            -0.300126     -0.142864   -0.281792     -0.610158   \n",
      "1.044616            -0.394309     -0.142864   -0.281792     -0.610158   \n",
      "1.044666            -0.205943     -0.142864   -0.281792     -0.610158   \n",
      "\n",
      "          ANZ_TITEL    ARBEIT      ...        CAMEO_DEU_2015_8C  \\\n",
      "LNR                                ...                            \n",
      "1.044527        0.0 -0.255250      ...                -0.263318   \n",
      "1.044589        0.0  0.716291      ...                -0.263318   \n",
      "1.044600        0.0 -1.226790      ...                 3.797696   \n",
      "1.044616        0.0  0.716291      ...                -0.263318   \n",
      "1.044666        0.0 -1.226790      ...                -0.263318   \n",
      "\n",
      "          CAMEO_DEU_2015_8D  CAMEO_DEU_2015_9A  CAMEO_DEU_2015_9B  \\\n",
      "LNR                                                                 \n",
      "1.044527                0.0                0.0          -0.243513   \n",
      "1.044589                0.0                0.0          -0.243513   \n",
      "1.044600                0.0                0.0          -0.243513   \n",
      "1.044616                0.0                0.0          -0.243513   \n",
      "1.044666                0.0                0.0          -0.243513   \n",
      "\n",
      "          CAMEO_DEU_2015_9C  CAMEO_DEU_2015_9D  CAMEO_DEU_2015_9E  \\\n",
      "LNR                                                                 \n",
      "1.044527          -0.228966          -0.248766                0.0   \n",
      "1.044589          -0.228966          -0.248766                0.0   \n",
      "1.044600          -0.228966          -0.248766                0.0   \n",
      "1.044616          -0.228966          -0.248766                0.0   \n",
      "1.044666          -0.228966          -0.248766                0.0   \n",
      "\n",
      "          CAMEO_DEU_2015_XX  OST_WEST_KZ_O  OST_WEST_KZ_W  \n",
      "LNR                                                        \n",
      "1.044527                0.0      -0.509642       0.509642  \n",
      "1.044589                0.0      -0.509642       0.509642  \n",
      "1.044600                0.0      -0.509642       0.509642  \n",
      "1.044616                0.0      -0.509642       0.509642  \n",
      "1.044666                0.0      -0.509642       0.509642  \n",
      "\n",
      "[5 rows x 283 columns]\n"
     ]
    }
   ],
   "source": [
    "azdias = data_preprocess_2(azdias, True, 'azdias')\n",
    "print(azdias.shape)\n",
    "print(azdias.head(5))"
   ]
  },
  {
   "cell_type": "code",
   "execution_count": null,
   "metadata": {},
   "outputs": [],
   "source": [
    "azdias.head(5)"
   ]
  },
  {
   "cell_type": "markdown",
   "metadata": {},
   "source": [
    "#### Clean customers dataset"
   ]
  },
  {
   "cell_type": "code",
   "execution_count": 7,
   "metadata": {},
   "outputs": [
    {
     "name": "stdout",
     "output_type": "stream",
     "text": [
      "shape after corr (191652, 256)\n",
      "shape after one-hot (191652, 303)\n",
      "shape after impute (191652, 303)\n",
      "inside outliers if\n",
      "shape before scaling (100341, 303)\n",
      "shape after scaling (100341, 303)\n",
      "(100341, 302)\n",
      "           AGER_TYP  AKT_DAT_KL  ALTER_HH  ALTERSKATEGORIE_FEIN  \\\n",
      "LNR                                                               \n",
      "-1.556361 -0.738505    1.010105  0.168897             -0.209002   \n",
      " 0.872952  0.777112   -1.037635 -0.468300             -0.545546   \n",
      " 0.873622  0.777112   -1.037635 -0.043502             -0.209002   \n",
      " 0.118344  0.777112   -1.037635  2.080488              1.137176   \n",
      " 0.118561  0.777112   -1.037635 -0.043502              0.127543   \n",
      "\n",
      "           ANZ_HAUSHALTE_AKTIV  ANZ_HH_TITEL  ANZ_KINDER  ANZ_PERSONEN  \\\n",
      "LNR                                                                      \n",
      "-1.556361             0.808794      0.992832   -0.193253     -0.686881   \n",
      " 0.872952            -1.330334      0.992832   -0.193253     -1.545501   \n",
      " 0.873622            -1.092653     -1.008534   -0.193253     -0.973088   \n",
      " 0.118344            -1.092653     -1.008534   -0.193253     -0.686881   \n",
      " 0.118561            -1.092653     -1.008534   -0.193253     -1.259294   \n",
      "\n",
      "           ANZ_TITEL    ARBEIT      ...        CAMEO_DEU_2015_8D  \\\n",
      "LNR                                 ...                            \n",
      "-1.556361        0.0  0.985621      ...                      0.0   \n",
      " 0.872952        0.0 -1.487406      ...                      0.0   \n",
      " 0.873622        0.0 -0.869149      ...                      0.0   \n",
      " 0.118344        0.0 -0.869149      ...                      0.0   \n",
      " 0.118561        0.0 -1.178277      ...                      0.0   \n",
      "\n",
      "           CAMEO_DEU_2015_9A  CAMEO_DEU_2015_9B  CAMEO_DEU_2015_9C  \\\n",
      "LNR                                                                  \n",
      "-1.556361                0.0                0.0                0.0   \n",
      " 0.872952                0.0                0.0                0.0   \n",
      " 0.873622                0.0                0.0                0.0   \n",
      " 0.118344                0.0                0.0                0.0   \n",
      " 0.118561                0.0                0.0                0.0   \n",
      "\n",
      "           CAMEO_DEU_2015_9D  CAMEO_DEU_2015_9E  CAMEO_DEU_2015_XX  \\\n",
      "LNR                                                                  \n",
      "-1.556361                0.0                0.0                0.0   \n",
      " 0.872952                0.0                0.0                0.0   \n",
      " 0.873622                0.0                0.0                0.0   \n",
      " 0.118344                0.0                0.0                0.0   \n",
      " 0.118561                0.0                0.0                0.0   \n",
      "\n",
      "           OST_WEST_KZ_-1  OST_WEST_KZ_O  OST_WEST_KZ_W  \n",
      "LNR                                                      \n",
      "-1.556361        1.013798      -0.164221      -0.961907  \n",
      " 0.872952       -0.986389      -0.164221       1.039601  \n",
      " 0.873622       -0.986389      -0.164221       1.039601  \n",
      " 0.118344       -0.986389      -0.164221       1.039601  \n",
      " 0.118561       -0.986389      -0.164221       1.039601  \n",
      "\n",
      "[5 rows x 302 columns]\n",
      "CPU times: user 2min 36s, sys: 11.1 s, total: 2min 47s\n",
      "Wall time: 3min\n"
     ]
    }
   ],
   "source": [
    "%%time\n",
    "customers = data_preprocess_2(customers, True, 'customers')\n",
    "print(customers.shape)\n",
    "print(customers.head(5))"
   ]
  },
  {
   "cell_type": "code",
   "execution_count": 5,
   "metadata": {},
   "outputs": [
    {
     "data": {
      "text/html": [
       "<div>\n",
       "<style scoped>\n",
       "    .dataframe tbody tr th:only-of-type {\n",
       "        vertical-align: middle;\n",
       "    }\n",
       "\n",
       "    .dataframe tbody tr th {\n",
       "        vertical-align: top;\n",
       "    }\n",
       "\n",
       "    .dataframe thead th {\n",
       "        text-align: right;\n",
       "    }\n",
       "</style>\n",
       "<table border=\"1\" class=\"dataframe\">\n",
       "  <thead>\n",
       "    <tr style=\"text-align: right;\">\n",
       "      <th></th>\n",
       "      <th>AGER_TYP</th>\n",
       "      <th>AKT_DAT_KL</th>\n",
       "      <th>ALTER_HH</th>\n",
       "      <th>ALTERSKATEGORIE_FEIN</th>\n",
       "      <th>ANZ_HAUSHALTE_AKTIV</th>\n",
       "      <th>ANZ_HH_TITEL</th>\n",
       "      <th>ANZ_KINDER</th>\n",
       "      <th>ANZ_PERSONEN</th>\n",
       "      <th>ANZ_TITEL</th>\n",
       "      <th>ARBEIT</th>\n",
       "      <th>...</th>\n",
       "      <th>CAMEO_DEU_2015_8C</th>\n",
       "      <th>CAMEO_DEU_2015_8D</th>\n",
       "      <th>CAMEO_DEU_2015_9A</th>\n",
       "      <th>CAMEO_DEU_2015_9B</th>\n",
       "      <th>CAMEO_DEU_2015_9C</th>\n",
       "      <th>CAMEO_DEU_2015_9D</th>\n",
       "      <th>CAMEO_DEU_2015_9E</th>\n",
       "      <th>CAMEO_DEU_2015_XX</th>\n",
       "      <th>OST_WEST_KZ_O</th>\n",
       "      <th>OST_WEST_KZ_W</th>\n",
       "    </tr>\n",
       "    <tr>\n",
       "      <th>LNR</th>\n",
       "      <th></th>\n",
       "      <th></th>\n",
       "      <th></th>\n",
       "      <th></th>\n",
       "      <th></th>\n",
       "      <th></th>\n",
       "      <th></th>\n",
       "      <th></th>\n",
       "      <th></th>\n",
       "      <th></th>\n",
       "      <th></th>\n",
       "      <th></th>\n",
       "      <th></th>\n",
       "      <th></th>\n",
       "      <th></th>\n",
       "      <th></th>\n",
       "      <th></th>\n",
       "      <th></th>\n",
       "      <th></th>\n",
       "      <th></th>\n",
       "      <th></th>\n",
       "    </tr>\n",
       "  </thead>\n",
       "  <tbody>\n",
       "    <tr>\n",
       "      <th>-1.557032</th>\n",
       "      <td>0.906378</td>\n",
       "      <td>-0.334814</td>\n",
       "      <td>-0.213980</td>\n",
       "      <td>-0.051482</td>\n",
       "      <td>-0.396722</td>\n",
       "      <td>-0.120082</td>\n",
       "      <td>-0.261455</td>\n",
       "      <td>-0.225242</td>\n",
       "      <td>0.0</td>\n",
       "      <td>-1.690480</td>\n",
       "      <td>...</td>\n",
       "      <td>0.0</td>\n",
       "      <td>0.0</td>\n",
       "      <td>0.0</td>\n",
       "      <td>0.0</td>\n",
       "      <td>0.0</td>\n",
       "      <td>0.0</td>\n",
       "      <td>0.0</td>\n",
       "      <td>0.0</td>\n",
       "      <td>-0.257654</td>\n",
       "      <td>0.257654</td>\n",
       "    </tr>\n",
       "    <tr>\n",
       "      <th>0.862389</th>\n",
       "      <td>-1.406768</td>\n",
       "      <td>-0.334814</td>\n",
       "      <td>-0.859338</td>\n",
       "      <td>-2.574953</td>\n",
       "      <td>-0.396722</td>\n",
       "      <td>-0.120082</td>\n",
       "      <td>-0.261455</td>\n",
       "      <td>-0.975747</td>\n",
       "      <td>0.0</td>\n",
       "      <td>0.198165</td>\n",
       "      <td>...</td>\n",
       "      <td>0.0</td>\n",
       "      <td>0.0</td>\n",
       "      <td>0.0</td>\n",
       "      <td>0.0</td>\n",
       "      <td>0.0</td>\n",
       "      <td>0.0</td>\n",
       "      <td>0.0</td>\n",
       "      <td>0.0</td>\n",
       "      <td>-0.257654</td>\n",
       "      <td>0.257654</td>\n",
       "    </tr>\n",
       "    <tr>\n",
       "      <th>0.862678</th>\n",
       "      <td>0.135329</td>\n",
       "      <td>-0.334814</td>\n",
       "      <td>-0.052641</td>\n",
       "      <td>-0.051482</td>\n",
       "      <td>-0.396722</td>\n",
       "      <td>-0.120082</td>\n",
       "      <td>-0.261455</td>\n",
       "      <td>-0.225242</td>\n",
       "      <td>0.0</td>\n",
       "      <td>0.198165</td>\n",
       "      <td>...</td>\n",
       "      <td>0.0</td>\n",
       "      <td>0.0</td>\n",
       "      <td>0.0</td>\n",
       "      <td>0.0</td>\n",
       "      <td>0.0</td>\n",
       "      <td>0.0</td>\n",
       "      <td>0.0</td>\n",
       "      <td>0.0</td>\n",
       "      <td>-0.257654</td>\n",
       "      <td>0.257654</td>\n",
       "    </tr>\n",
       "    <tr>\n",
       "      <th>0.863074</th>\n",
       "      <td>0.135329</td>\n",
       "      <td>-0.334814</td>\n",
       "      <td>-0.213980</td>\n",
       "      <td>-0.303829</td>\n",
       "      <td>-0.396722</td>\n",
       "      <td>-0.120082</td>\n",
       "      <td>-0.261455</td>\n",
       "      <td>-0.225242</td>\n",
       "      <td>0.0</td>\n",
       "      <td>0.198165</td>\n",
       "      <td>...</td>\n",
       "      <td>0.0</td>\n",
       "      <td>0.0</td>\n",
       "      <td>0.0</td>\n",
       "      <td>0.0</td>\n",
       "      <td>0.0</td>\n",
       "      <td>0.0</td>\n",
       "      <td>0.0</td>\n",
       "      <td>0.0</td>\n",
       "      <td>-0.257654</td>\n",
       "      <td>0.257654</td>\n",
       "    </tr>\n",
       "    <tr>\n",
       "      <th>0.110878</th>\n",
       "      <td>0.135329</td>\n",
       "      <td>-0.334814</td>\n",
       "      <td>1.399414</td>\n",
       "      <td>0.705559</td>\n",
       "      <td>-0.396722</td>\n",
       "      <td>-0.120082</td>\n",
       "      <td>-0.261455</td>\n",
       "      <td>0.525263</td>\n",
       "      <td>0.0</td>\n",
       "      <td>0.198165</td>\n",
       "      <td>...</td>\n",
       "      <td>0.0</td>\n",
       "      <td>0.0</td>\n",
       "      <td>0.0</td>\n",
       "      <td>0.0</td>\n",
       "      <td>0.0</td>\n",
       "      <td>0.0</td>\n",
       "      <td>0.0</td>\n",
       "      <td>0.0</td>\n",
       "      <td>-0.257654</td>\n",
       "      <td>0.257654</td>\n",
       "    </tr>\n",
       "  </tbody>\n",
       "</table>\n",
       "<p>5 rows × 311 columns</p>\n",
       "</div>"
      ],
      "text/plain": [
       "           AGER_TYP  AKT_DAT_KL  ALTER_HH  ALTERSKATEGORIE_FEIN  \\\n",
       "LNR                                                               \n",
       "-1.557032  0.906378   -0.334814 -0.213980             -0.051482   \n",
       " 0.862389 -1.406768   -0.334814 -0.859338             -2.574953   \n",
       " 0.862678  0.135329   -0.334814 -0.052641             -0.051482   \n",
       " 0.863074  0.135329   -0.334814 -0.213980             -0.303829   \n",
       " 0.110878  0.135329   -0.334814  1.399414              0.705559   \n",
       "\n",
       "           ANZ_HAUSHALTE_AKTIV  ANZ_HH_TITEL  ANZ_KINDER  ANZ_PERSONEN  \\\n",
       "LNR                                                                      \n",
       "-1.557032            -0.396722     -0.120082   -0.261455     -0.225242   \n",
       " 0.862389            -0.396722     -0.120082   -0.261455     -0.975747   \n",
       " 0.862678            -0.396722     -0.120082   -0.261455     -0.225242   \n",
       " 0.863074            -0.396722     -0.120082   -0.261455     -0.225242   \n",
       " 0.110878            -0.396722     -0.120082   -0.261455      0.525263   \n",
       "\n",
       "           ANZ_TITEL    ARBEIT      ...        CAMEO_DEU_2015_8C  \\\n",
       "LNR                                 ...                            \n",
       "-1.557032        0.0 -1.690480      ...                      0.0   \n",
       " 0.862389        0.0  0.198165      ...                      0.0   \n",
       " 0.862678        0.0  0.198165      ...                      0.0   \n",
       " 0.863074        0.0  0.198165      ...                      0.0   \n",
       " 0.110878        0.0  0.198165      ...                      0.0   \n",
       "\n",
       "           CAMEO_DEU_2015_8D  CAMEO_DEU_2015_9A  CAMEO_DEU_2015_9B  \\\n",
       "LNR                                                                  \n",
       "-1.557032                0.0                0.0                0.0   \n",
       " 0.862389                0.0                0.0                0.0   \n",
       " 0.862678                0.0                0.0                0.0   \n",
       " 0.863074                0.0                0.0                0.0   \n",
       " 0.110878                0.0                0.0                0.0   \n",
       "\n",
       "           CAMEO_DEU_2015_9C  CAMEO_DEU_2015_9D  CAMEO_DEU_2015_9E  \\\n",
       "LNR                                                                  \n",
       "-1.557032                0.0                0.0                0.0   \n",
       " 0.862389                0.0                0.0                0.0   \n",
       " 0.862678                0.0                0.0                0.0   \n",
       " 0.863074                0.0                0.0                0.0   \n",
       " 0.110878                0.0                0.0                0.0   \n",
       "\n",
       "           CAMEO_DEU_2015_XX  OST_WEST_KZ_O  OST_WEST_KZ_W  \n",
       "LNR                                                         \n",
       "-1.557032                0.0      -0.257654       0.257654  \n",
       " 0.862389                0.0      -0.257654       0.257654  \n",
       " 0.862678                0.0      -0.257654       0.257654  \n",
       " 0.863074                0.0      -0.257654       0.257654  \n",
       " 0.110878                0.0      -0.257654       0.257654  \n",
       "\n",
       "[5 rows x 311 columns]"
      ]
     },
     "execution_count": 5,
     "metadata": {},
     "output_type": "execute_result"
    }
   ],
   "source": [
    "customers.head(5)"
   ]
  },
  {
   "cell_type": "markdown",
   "metadata": {},
   "source": [
    "## Part 1: Customer Segmentation Report\n",
    "\n",
    "The main bulk of your analysis will come in this part of the project. Here, you should use unsupervised learning techniques to describe the relationship between the demographics of the company's existing customers and the general population of Germany. By the end of this part, you should be able to describe parts of the general population that are more likely to be part of the mail-order company's main customer base, and which parts of the general population are less so."
   ]
  },
  {
   "cell_type": "markdown",
   "metadata": {},
   "source": [
    "#### After data preprocessing step we could find that general population data (azdias) now has 415405 rows and 283 columns. Even though we have dropped not-so important features and outlier data, this is still high dimensional data and this is where we will be using  Principal Component to reduce dimension."
   ]
  },
  {
   "cell_type": "code",
   "execution_count": 8,
   "metadata": {},
   "outputs": [
    {
     "data": {
      "image/png": "[encoded data removed]",
      "text/plain": [
       "<matplotlib.figure.Figure at 0x7f9e4ad97278>"
      ]
     },
     "metadata": {
      "needs_background": "light"
     },
     "output_type": "display_data"
    },
    {
     "name": "stdout",
     "output_type": "stream",
     "text": [
      "CPU times: user 32.2 s, sys: 5.33 s, total: 37.5 s\n",
      "Wall time: 52.9 s\n"
     ]
    }
   ],
   "source": [
    "%%time\n",
    "pca = PCA().fit(azdias)\n",
    "plt.figure(figsize=(20,10))\n",
    "plt.plot(np.cumsum(pca.explained_variance_ratio_))\n",
    "plt.xlabel('number of components')\n",
    "plt.ylabel('cumulative explained variance')\n",
    "plt.show()"
   ]
  },
  {
   "cell_type": "code",
   "execution_count": null,
   "metadata": {},
   "outputs": [],
   "source": [
    "def print_weights(n):\n",
    "    '''\n",
    "    n: number of principal component\n",
    "    '''\n",
    "    components = pd.DataFrame(np.round(pca.components_[n - 1: n], 4), columns = azdias.keys())\n",
    "    components.index = ['Weights']\n",
    "    components = components.sort_values(by = 'Weights', axis = 1, ascending=False)\n",
    "    components = components.T\n",
    "    print(components)\n",
    "    return components"
   ]
  },
  {
   "cell_type": "markdown",
   "metadata": {},
   "source": [
    "#### With PCA we want to make our data has high variance. This way we do not lose critical information from dataset while reducing dimensions. Based on above chart we can see that at around 220 components, cumulative variance is still high. Let us reduce our data with 220 components"
   ]
  },
  {
   "cell_type": "code",
   "execution_count": 9,
   "metadata": {},
   "outputs": [],
   "source": [
    "def reduce_data(df,n=220):\n",
    "    pca = PCA(n_components=n).fit(df)\n",
    "    reduced_data = pca.transform(df)\n",
    "    reduced_data = pd.DataFrame(reduced_data)\n",
    "    print(pca.explained_variance_ratio_.sum())\n",
    "    return reduced_data"
   ]
  },
  {
   "cell_type": "code",
   "execution_count": 10,
   "metadata": {},
   "outputs": [
    {
     "name": "stdout",
     "output_type": "stream",
     "text": [
      "0.986999901419\n",
      "0.997359650009\n"
     ]
    }
   ],
   "source": [
    "reduced_azdias = reduce_data(azdias)\n",
    "reduced_customers = reduce_data(customers)"
   ]
  },
  {
   "cell_type": "code",
   "execution_count": 11,
   "metadata": {},
   "outputs": [
    {
     "name": "stdout",
     "output_type": "stream",
     "text": [
      "number of rows in new dataset:  (415405, 220)\n",
      "number of rows in new dataset:  (100341, 220)\n"
     ]
    }
   ],
   "source": [
    "print('number of rows in new dataset: ',reduced_azdias.shape)\n",
    "print('number of rows in new dataset: ',reduced_customers.shape)"
   ]
  },
  {
   "cell_type": "code",
   "execution_count": 44,
   "metadata": {},
   "outputs": [],
   "source": [
    "reduced_azdias.to_pickle('reduced_azdias.p')\n",
    "reduced_customers.to_pickle('reduced_customers.p')"
   ]
  },
  {
   "cell_type": "markdown",
   "metadata": {},
   "source": [
    "## Clustering"
   ]
  },
  {
   "cell_type": "markdown",
   "metadata": {},
   "source": [
    "#### With dimension now reduced, let's do clustering. To decide on number of clusters, we will try using elbow method "
   ]
  },
  {
   "cell_type": "code",
   "execution_count": 13,
   "metadata": {},
   "outputs": [],
   "source": [
    "def score(data, k):\n",
    "    kmeans_k = KMeans(k)\n",
    "    model_k = kmeans_k.fit(data)\n",
    "    return abs(model_k.score(data))"
   ]
  },
  {
   "cell_type": "code",
   "execution_count": 14,
   "metadata": {},
   "outputs": [
    {
     "data": {
      "text/plain": [
       "array([  1.,   2.,   3.,   4.,   5.,   6.,   7.,   8.,   9.,  10.,  11.,\n",
       "        12.,  13.,  14.,  15.,  16.,  17.,  18.,  19.,  20.,  21.])"
      ]
     },
     "execution_count": 14,
     "metadata": {},
     "output_type": "execute_result"
    }
   ],
   "source": [
    "centers = np.linspace(1,21,21)\n",
    "centers"
   ]
  },
  {
   "cell_type": "code",
   "execution_count": 15,
   "metadata": {},
   "outputs": [
    {
     "name": "stdout",
     "output_type": "stream",
     "text": [
      "CPU times: user 5min 51s, sys: 13.1 s, total: 6min 5s\n",
      "Wall time: 6min 6s\n"
     ]
    },
    {
     "data": {
      "image/png": "[encoded data removed]",
      "text/plain": [
       "<matplotlib.figure.Figure at 0x7f9e4ad0fda0>"
      ]
     },
     "metadata": {
      "needs_background": "light"
     },
     "output_type": "display_data"
    }
   ],
   "source": [
    "%%time\n",
    "scores = []\n",
    "for i in range(1, 21):\n",
    "    scores.append(score(reduced_azdias.sample(20000), i))\n",
    "centers = np.linspace(1,20,20)\n",
    "plt.plot(centers, scores, linestyle='-', marker='o', color='orange')"
   ]
  },
  {
   "cell_type": "code",
   "execution_count": 16,
   "metadata": {},
   "outputs": [
    {
     "data": {
      "text/plain": [
       "Text(0.5,0,'Number of Clusters')"
      ]
     },
     "execution_count": 16,
     "metadata": {},
     "output_type": "execute_result"
    },
    {
     "data": {
      "image/png": "[encoded data removed]",
      "text/plain": [
       "<matplotlib.figure.Figure at 0x7f9e4ac5fc18>"
      ]
     },
     "metadata": {
      "needs_background": "light"
     },
     "output_type": "display_data"
    }
   ],
   "source": [
    "centers = np.linspace(1,20,20)\n",
    "plt.figure(figsize=(14,6))\n",
    "plt.plot(centers, scores, linestyle='-', marker='o', color='orange')\n",
    "plt.xticks(list(range(1,22,2)))\n",
    "plt.ylabel('Average Within-Cluster Distances')\n",
    "plt.xlabel('Number of Clusters')"
   ]
  },
  {
   "cell_type": "markdown",
   "metadata": {},
   "source": [
    "#### from above chart we can see that at around 12 clusters, average distance within cluster almost flattens. We will use 12 as number of clusters"
   ]
  },
  {
   "cell_type": "code",
   "execution_count": 17,
   "metadata": {},
   "outputs": [
    {
     "name": "stdout",
     "output_type": "stream",
     "text": [
      "CPU times: user 9min 21s, sys: 1min 25s, total: 10min 46s\n",
      "Wall time: 10min 51s\n"
     ]
    }
   ],
   "source": [
    "%%time\n",
    "kmeans_k = KMeans(12)\n",
    "model_k = kmeans_k.fit(reduced_azdias)\n",
    "prediction_azdias = model_k.predict(reduced_azdias)"
   ]
  },
  {
   "cell_type": "code",
   "execution_count": 50,
   "metadata": {},
   "outputs": [],
   "source": [
    "azdias_clustered = pd.DataFrame(prediction_azdias, columns = ['Cluster'])\n",
    "azdias_clustered.to_pickle('azdias_clustered')"
   ]
  },
  {
   "cell_type": "code",
   "execution_count": 18,
   "metadata": {},
   "outputs": [],
   "source": [
    "prediction_customers = model_k.predict(reduced_customers)\n",
    "customers_clustered = pd.DataFrame(prediction_customers, columns = ['Cluster'])\n",
    "customers_clustered.to_pickle('customers_clustered')"
   ]
  },
  {
   "cell_type": "markdown",
   "metadata": {},
   "source": [
    "### Analysis of data in clusters and also comparison between clusters of general population and customer data"
   ]
  },
  {
   "cell_type": "code",
   "execution_count": 19,
   "metadata": {},
   "outputs": [],
   "source": [
    "# Count number of predictions for each customer segment# Count n \n",
    "customer_clusters = pd.Series(prediction_customers)\n",
    "cc = customer_clusters.value_counts().sort_index()\n",
    "# Count number in each population segment\n",
    "population_clusters = pd.Series(prediction_azdias)\n",
    "pc = population_clusters.value_counts().sort_index()"
   ]
  },
  {
   "cell_type": "code",
   "execution_count": 20,
   "metadata": {},
   "outputs": [
    {
     "data": {
      "text/html": [
       "<div>\n",
       "<style scoped>\n",
       "    .dataframe tbody tr th:only-of-type {\n",
       "        vertical-align: middle;\n",
       "    }\n",
       "\n",
       "    .dataframe tbody tr th {\n",
       "        vertical-align: top;\n",
       "    }\n",
       "\n",
       "    .dataframe thead th {\n",
       "        text-align: right;\n",
       "    }\n",
       "</style>\n",
       "<table border=\"1\" class=\"dataframe\">\n",
       "  <thead>\n",
       "    <tr style=\"text-align: right;\">\n",
       "      <th></th>\n",
       "      <th>cluster</th>\n",
       "      <th>population</th>\n",
       "      <th>customer</th>\n",
       "      <th>difference</th>\n",
       "    </tr>\n",
       "  </thead>\n",
       "  <tbody>\n",
       "    <tr>\n",
       "      <th>0</th>\n",
       "      <td>0</td>\n",
       "      <td>43047</td>\n",
       "      <td>506</td>\n",
       "      <td>-9.858378</td>\n",
       "    </tr>\n",
       "    <tr>\n",
       "      <th>1</th>\n",
       "      <td>1</td>\n",
       "      <td>43635</td>\n",
       "      <td>2954</td>\n",
       "      <td>-7.560246</td>\n",
       "    </tr>\n",
       "    <tr>\n",
       "      <th>2</th>\n",
       "      <td>2</td>\n",
       "      <td>26060</td>\n",
       "      <td>57</td>\n",
       "      <td>-6.216590</td>\n",
       "    </tr>\n",
       "    <tr>\n",
       "      <th>3</th>\n",
       "      <td>3</td>\n",
       "      <td>42377</td>\n",
       "      <td>14295</td>\n",
       "      <td>4.045050</td>\n",
       "    </tr>\n",
       "    <tr>\n",
       "      <th>4</th>\n",
       "      <td>4</td>\n",
       "      <td>36209</td>\n",
       "      <td>2544</td>\n",
       "      <td>-6.181199</td>\n",
       "    </tr>\n",
       "    <tr>\n",
       "      <th>5</th>\n",
       "      <td>5</td>\n",
       "      <td>30313</td>\n",
       "      <td>46592</td>\n",
       "      <td>39.136445</td>\n",
       "    </tr>\n",
       "    <tr>\n",
       "      <th>6</th>\n",
       "      <td>6</td>\n",
       "      <td>26491</td>\n",
       "      <td>1023</td>\n",
       "      <td>-5.357627</td>\n",
       "    </tr>\n",
       "    <tr>\n",
       "      <th>7</th>\n",
       "      <td>7</td>\n",
       "      <td>34547</td>\n",
       "      <td>18687</td>\n",
       "      <td>10.307032</td>\n",
       "    </tr>\n",
       "    <tr>\n",
       "      <th>8</th>\n",
       "      <td>8</td>\n",
       "      <td>33815</td>\n",
       "      <td>13011</td>\n",
       "      <td>4.826535</td>\n",
       "    </tr>\n",
       "    <tr>\n",
       "      <th>9</th>\n",
       "      <td>9</td>\n",
       "      <td>33798</td>\n",
       "      <td>621</td>\n",
       "      <td>-7.517267</td>\n",
       "    </tr>\n",
       "    <tr>\n",
       "      <th>10</th>\n",
       "      <td>10</td>\n",
       "      <td>49977</td>\n",
       "      <td>28</td>\n",
       "      <td>-12.003005</td>\n",
       "    </tr>\n",
       "    <tr>\n",
       "      <th>11</th>\n",
       "      <td>11</td>\n",
       "      <td>15136</td>\n",
       "      <td>23</td>\n",
       "      <td>-3.620751</td>\n",
       "    </tr>\n",
       "  </tbody>\n",
       "</table>\n",
       "</div>"
      ],
      "text/plain": [
       "    cluster  population  customer  difference\n",
       "0         0       43047       506   -9.858378\n",
       "1         1       43635      2954   -7.560246\n",
       "2         2       26060        57   -6.216590\n",
       "3         3       42377     14295    4.045050\n",
       "4         4       36209      2544   -6.181199\n",
       "5         5       30313     46592   39.136445\n",
       "6         6       26491      1023   -5.357627\n",
       "7         7       34547     18687   10.307032\n",
       "8         8       33815     13011    4.826535\n",
       "9         9       33798       621   -7.517267\n",
       "10       10       49977        28  -12.003005\n",
       "11       11       15136        23   -3.620751"
      ]
     },
     "execution_count": 20,
     "metadata": {},
     "output_type": "execute_result"
    }
   ],
   "source": [
    "# Create a dataframe from population and customer segments\n",
    "df_stat = pd.concat([pc, cc], axis=1).reset_index()\n",
    "df_stat.columns = ['cluster','population','customer']\n",
    "\n",
    "df_stat['difference'] = (df_stat['customer']/df_stat['customer'].sum()*100) - (df_stat['population']/df_stat['population'].sum()*100)\n",
    "df_stat"
   ]
  },
  {
   "cell_type": "code",
   "execution_count": 21,
   "metadata": {},
   "outputs": [
    {
     "data": {
      "image/png": "[encoded data removed]",
      "text/plain": [
       "<matplotlib.figure.Figure at 0x7f9e4ab2b2b0>"
      ]
     },
     "metadata": {
      "needs_background": "light"
     },
     "output_type": "display_data"
    }
   ],
   "source": [
    "# Compare the proportion of data in each cluster for the customer data to the\n",
    "# proportion of data in each cluster for the general population.\n",
    "# Add ratio and ratio difference for each cluster to the dataframe\n",
    "df_stat['pop_percent'] = (df_stat['population']/df_stat['population'].sum()*100).round(2)\n",
    "df_stat['cust_percent'] = (df_stat['customer']/df_stat['customer'].sum()*100).round(2)\n",
    "\n",
    "\n",
    "fig = plt.figure(figsize=(12,5))\n",
    "\n",
    "ax = fig.add_subplot(111)\n",
    "ax = df_stat['pop_percent'].plot(x=df_stat['cluster'],width=-0.3,align='edge',color='blue',kind='bar',position=0)\n",
    "ax = df_stat['cust_percent'].plot(kind='bar',color='orange',width = 0.3, align='edge',position=1)\n",
    "ax.set_xlabel('Clusters', fontsize=15) \n",
    "ax.set_ylabel('Ratio %', fontsize=15)\n",
    "ax.xaxis.set(ticklabels=range(20))\n",
    "ax.tick_params(axis = 'x', which = 'major', labelsize = 13)\n",
    "ax.margins(x=0.5,y=0.1)\n",
    "\n",
    "plt.legend(('Gen Population', 'Customer'),fontsize=15)\n",
    "plt.title(('Ratio of Gen Population Vs Customer segments as % of total per cluster'))\n",
    "plt.show()"
   ]
  },
  {
   "cell_type": "code",
   "execution_count": 28,
   "metadata": {},
   "outputs": [],
   "source": [
    "# Show Highest Positive and Negative weights when a PComponent and Weight is passed\n",
    "def pca_weights(pc,weight_num):\n",
    "    \n",
    "    ratio = pd.DataFrame(pca.explained_variance_ratio_,columns = ['EXPLAINED_VARIANCE'])\n",
    "    ratio = ratio.round(3)\n",
    "    weights = pd.DataFrame(pca.components_, columns = azdias.columns.values)\n",
    "    weights = weights.round(3)    \n",
    "    \n",
    "    result = pd.concat([ratio, weights], axis = 1,  join_axes=[ratio.index])\n",
    "    result[:5]\n",
    "    print(\"Principal Component: \", (pc))    \n",
    "    print('\\n')\n",
    "    print(\"Highest Positive weights:\")\n",
    "    print(result.iloc[(pc)-1].sort_values(ascending=False)[:weight_num])\n",
    "    print('\\n')\n",
    "    print(\"Negative weights:\")\n",
    "    print(result.iloc[(pc)-1].sort_values()[:weight_num])"
   ]
  },
  {
   "cell_type": "code",
   "execution_count": 29,
   "metadata": {},
   "outputs": [
    {
     "name": "stdout",
     "output_type": "stream",
     "text": [
      "Principal Component:  5\n",
      "\n",
      "\n",
      "Highest Positive weights:\n",
      "KBA13_KMH_210          0.223\n",
      "OST_WEST_KZ_O          0.187\n",
      "KBA13_CCM_1401_2500    0.183\n",
      "KBA13_VORB_0           0.135\n",
      "KBA13_CCM_2000         0.134\n",
      "Name: 4, dtype: float64\n",
      "\n",
      "\n",
      "Negative weights:\n",
      "KBA13_KW_0_60         -0.239\n",
      "KBA13_KMH_180         -0.196\n",
      "KBA13_CCM_0_1400      -0.194\n",
      "OST_WEST_KZ_W         -0.187\n",
      "KBA13_SEG_MINIWAGEN   -0.159\n",
      "Name: 4, dtype: float64\n"
     ]
    }
   ],
   "source": [
    "# Show highest positive and negative weights for 5 cluster (over representation of Customer)\n",
    "pca_weights(5,5)"
   ]
  },
  {
   "cell_type": "code",
   "execution_count": 30,
   "metadata": {},
   "outputs": [
    {
     "name": "stdout",
     "output_type": "stream",
     "text": [
      "Principal Component:  10\n",
      "\n",
      "\n",
      "Highest Positive weights:\n",
      "KBA05_MAXSEG     0.272\n",
      "KBA05_KRSOBER    0.208\n",
      "KBA05_CCM3       0.186\n",
      "KBA05_HERST1     0.165\n",
      "KBA05_KW2        0.163\n",
      "Name: 9, dtype: float64\n",
      "\n",
      "\n",
      "Negative weights:\n",
      "KBA05_CCM1        -0.235\n",
      "KBA05_MODTEMP     -0.210\n",
      "KBA05_HERST3      -0.162\n",
      "OST_WEST_KZ_W     -0.148\n",
      "KBA05_HERSTTEMP   -0.137\n",
      "Name: 9, dtype: float64\n"
     ]
    }
   ],
   "source": [
    "# Show lowest positive and negative weights for 10 cluster (under representation of Customer)\n",
    "pca_weights(10,5)"
   ]
  },
  {
   "cell_type": "code",
   "execution_count": null,
   "metadata": {},
   "outputs": [],
   "source": [
    "# What kinds of people are part of a cluster that is overrepresented in the\n",
    "# customer data compared to the general population?\n",
    "\n",
    "# Analysis of principal components of cluster 2 with over-representation in customer segment.\n",
    "CC = model_k.cluster_centers_[2]\n",
    "CC = pd.Series(CC)\n",
    "CC.index = CC.index +1\n",
    "print(CC.sort_values(ascending=False).head(5))\n",
    "\n",
    "# Transform cluster 2 to original feature values.\n",
    "CC_inv = scale.inverse_transform(pca.inverse_transform(CC))\n",
    "CC_inv = pd.Series(CC_inv).round(2)\n",
    "CC_inv.index = azdias_subset_columns\n",
    "CC_inv"
   ]
  },
  {
   "cell_type": "markdown",
   "metadata": {},
   "source": [
    "## Part 2: Supervised Learning Model\n",
    "\n",
    "Now that you've found which parts of the population are more likely to be customers of the mail-order company, it's time to build a prediction model. Each of the rows in the \"MAILOUT\" data files represents an individual that was targeted for a mailout campaign. Ideally, we should be able to use the demographic information from each individual to decide whether or not it will be worth it to include that person in the campaign.\n",
    "\n",
    "The \"MAILOUT\" data has been split into two approximately equal parts, each with almost 43 000 data rows. In this part, you can verify your model with the \"TRAIN\" partition, which includes a column, \"RESPONSE\", that states whether or not a person became a customer of the company following the campaign. In the next part, you'll need to create predictions on the \"TEST\" partition, where the \"RESPONSE\" column has been withheld."
   ]
  },
  {
   "cell_type": "code",
   "execution_count": 31,
   "metadata": {},
   "outputs": [
    {
     "name": "stderr",
     "output_type": "stream",
     "text": [
      "/opt/conda/lib/python3.6/site-packages/IPython/core/interactiveshell.py:2785: DtypeWarning: Columns (18,19) have mixed types. Specify dtype option on import or set low_memory=False.\n",
      "  interactivity=interactivity, compiler=compiler, result=result)\n"
     ]
    }
   ],
   "source": [
    "mailout_train = pd.read_csv('../../data/Term2/capstone/arvato_data/Udacity_MAILOUT_052018_TRAIN.csv', sep=';')\n",
    "#mailout_test = pd.read_csv('../../data/Term2/capstone/arvato_data/Udacity_MAILOUT_052018_TEST.csv', sep=';')"
   ]
  },
  {
   "cell_type": "code",
   "execution_count": 32,
   "metadata": {},
   "outputs": [],
   "source": [
    "X = mailout_train.drop('RESPONSE',axis=1)\n",
    "y = mailout_train['RESPONSE']"
   ]
  },
  {
   "cell_type": "code",
   "execution_count": 34,
   "metadata": {},
   "outputs": [
    {
     "name": "stdout",
     "output_type": "stream",
     "text": [
      "shape after corr (42962, 253)\n",
      "shape after one-hot (42962, 300)\n",
      "shape after impute (42962, 300)\n",
      "shape after scaling (42962, 300)\n"
     ]
    }
   ],
   "source": [
    "# preprocess data\n",
    "df_mailout_train  = data_preprocess_2(X, False)"
   ]
  },
  {
   "cell_type": "code",
   "execution_count": 35,
   "metadata": {},
   "outputs": [
    {
     "data": {
      "text/plain": [
       "(42962, 299)"
      ]
     },
     "execution_count": 35,
     "metadata": {},
     "output_type": "execute_result"
    }
   ],
   "source": [
    "df_mailout_train.shape"
   ]
  },
  {
   "cell_type": "code",
   "execution_count": 36,
   "metadata": {},
   "outputs": [
    {
     "data": {
      "text/plain": [
       "(42962,)"
      ]
     },
     "execution_count": 36,
     "metadata": {},
     "output_type": "execute_result"
    }
   ],
   "source": [
    "y.shape"
   ]
  },
  {
   "cell_type": "code",
   "execution_count": 37,
   "metadata": {},
   "outputs": [
    {
     "data": {
      "text/html": [
       "<div>\n",
       "<style scoped>\n",
       "    .dataframe tbody tr th:only-of-type {\n",
       "        vertical-align: middle;\n",
       "    }\n",
       "\n",
       "    .dataframe tbody tr th {\n",
       "        vertical-align: top;\n",
       "    }\n",
       "\n",
       "    .dataframe thead th {\n",
       "        text-align: right;\n",
       "    }\n",
       "</style>\n",
       "<table border=\"1\" class=\"dataframe\">\n",
       "  <thead>\n",
       "    <tr style=\"text-align: right;\">\n",
       "      <th></th>\n",
       "      <th>AGER_TYP</th>\n",
       "      <th>AKT_DAT_KL</th>\n",
       "      <th>ALTER_HH</th>\n",
       "      <th>ALTERSKATEGORIE_FEIN</th>\n",
       "      <th>ANZ_HAUSHALTE_AKTIV</th>\n",
       "      <th>ANZ_HH_TITEL</th>\n",
       "      <th>ANZ_KINDER</th>\n",
       "      <th>ANZ_PERSONEN</th>\n",
       "      <th>ANZ_TITEL</th>\n",
       "      <th>ARBEIT</th>\n",
       "      <th>...</th>\n",
       "      <th>CAMEO_DEU_2015_8D</th>\n",
       "      <th>CAMEO_DEU_2015_9A</th>\n",
       "      <th>CAMEO_DEU_2015_9B</th>\n",
       "      <th>CAMEO_DEU_2015_9C</th>\n",
       "      <th>CAMEO_DEU_2015_9D</th>\n",
       "      <th>CAMEO_DEU_2015_9E</th>\n",
       "      <th>CAMEO_DEU_2015_XX</th>\n",
       "      <th>OST_WEST_KZ_-1</th>\n",
       "      <th>OST_WEST_KZ_O</th>\n",
       "      <th>OST_WEST_KZ_W</th>\n",
       "    </tr>\n",
       "    <tr>\n",
       "      <th>LNR</th>\n",
       "      <th></th>\n",
       "      <th></th>\n",
       "      <th></th>\n",
       "      <th></th>\n",
       "      <th></th>\n",
       "      <th></th>\n",
       "      <th></th>\n",
       "      <th></th>\n",
       "      <th></th>\n",
       "      <th></th>\n",
       "      <th></th>\n",
       "      <th></th>\n",
       "      <th></th>\n",
       "      <th></th>\n",
       "      <th></th>\n",
       "      <th></th>\n",
       "      <th></th>\n",
       "      <th></th>\n",
       "      <th></th>\n",
       "      <th></th>\n",
       "      <th></th>\n",
       "    </tr>\n",
       "  </thead>\n",
       "  <tbody>\n",
       "    <tr>\n",
       "      <th>-1.656309</th>\n",
       "      <td>1.031262</td>\n",
       "      <td>-0.545883</td>\n",
       "      <td>-0.371726</td>\n",
       "      <td>-0.428455</td>\n",
       "      <td>0.573402</td>\n",
       "      <td>-0.499090</td>\n",
       "      <td>-0.204857</td>\n",
       "      <td>-0.752038</td>\n",
       "      <td>-0.083831</td>\n",
       "      <td>-0.459891</td>\n",
       "      <td>...</td>\n",
       "      <td>-0.167172</td>\n",
       "      <td>-0.104604</td>\n",
       "      <td>-0.110149</td>\n",
       "      <td>-0.100902</td>\n",
       "      <td>-0.125771</td>\n",
       "      <td>-0.094216</td>\n",
       "      <td>-0.016003</td>\n",
       "      <td>-0.47014</td>\n",
       "      <td>-0.494196</td>\n",
       "      <td>0.778419</td>\n",
       "    </tr>\n",
       "    <tr>\n",
       "      <th>-1.655987</th>\n",
       "      <td>0.323502</td>\n",
       "      <td>0.396516</td>\n",
       "      <td>0.523127</td>\n",
       "      <td>0.837103</td>\n",
       "      <td>-0.445506</td>\n",
       "      <td>-0.499090</td>\n",
       "      <td>-0.204857</td>\n",
       "      <td>-0.402222</td>\n",
       "      <td>-0.083831</td>\n",
       "      <td>-0.860749</td>\n",
       "      <td>...</td>\n",
       "      <td>-0.167172</td>\n",
       "      <td>-0.104604</td>\n",
       "      <td>-0.110149</td>\n",
       "      <td>-0.100902</td>\n",
       "      <td>-0.125771</td>\n",
       "      <td>-0.094216</td>\n",
       "      <td>-0.016003</td>\n",
       "      <td>-0.47014</td>\n",
       "      <td>-0.494196</td>\n",
       "      <td>0.778419</td>\n",
       "    </tr>\n",
       "    <tr>\n",
       "      <th>-1.655785</th>\n",
       "      <td>0.323502</td>\n",
       "      <td>-0.545883</td>\n",
       "      <td>-0.192755</td>\n",
       "      <td>-0.681567</td>\n",
       "      <td>-0.518285</td>\n",
       "      <td>2.042255</td>\n",
       "      <td>-0.204857</td>\n",
       "      <td>-1.101855</td>\n",
       "      <td>-0.083831</td>\n",
       "      <td>-0.059034</td>\n",
       "      <td>...</td>\n",
       "      <td>-0.167172</td>\n",
       "      <td>-0.104604</td>\n",
       "      <td>-0.110149</td>\n",
       "      <td>-0.100902</td>\n",
       "      <td>-0.125771</td>\n",
       "      <td>-0.094216</td>\n",
       "      <td>-0.016003</td>\n",
       "      <td>-0.47014</td>\n",
       "      <td>2.023489</td>\n",
       "      <td>-1.284655</td>\n",
       "    </tr>\n",
       "    <tr>\n",
       "      <th>-1.668538</th>\n",
       "      <td>1.031262</td>\n",
       "      <td>-0.545883</td>\n",
       "      <td>-0.729667</td>\n",
       "      <td>-0.934679</td>\n",
       "      <td>-0.227168</td>\n",
       "      <td>-0.499090</td>\n",
       "      <td>-0.204857</td>\n",
       "      <td>-0.402222</td>\n",
       "      <td>-0.083831</td>\n",
       "      <td>-0.059034</td>\n",
       "      <td>...</td>\n",
       "      <td>-0.167172</td>\n",
       "      <td>-0.104604</td>\n",
       "      <td>-0.110149</td>\n",
       "      <td>-0.100902</td>\n",
       "      <td>-0.125771</td>\n",
       "      <td>-0.094216</td>\n",
       "      <td>-0.016003</td>\n",
       "      <td>-0.47014</td>\n",
       "      <td>-0.494196</td>\n",
       "      <td>0.778419</td>\n",
       "    </tr>\n",
       "    <tr>\n",
       "      <th>-1.655502</th>\n",
       "      <td>1.031262</td>\n",
       "      <td>-0.545883</td>\n",
       "      <td>-0.192755</td>\n",
       "      <td>-0.175344</td>\n",
       "      <td>3.339007</td>\n",
       "      <td>-0.499090</td>\n",
       "      <td>-0.204857</td>\n",
       "      <td>-0.752038</td>\n",
       "      <td>-0.083831</td>\n",
       "      <td>-0.459891</td>\n",
       "      <td>...</td>\n",
       "      <td>-0.167172</td>\n",
       "      <td>-0.104604</td>\n",
       "      <td>-0.110149</td>\n",
       "      <td>-0.100902</td>\n",
       "      <td>-0.125771</td>\n",
       "      <td>-0.094216</td>\n",
       "      <td>-0.016003</td>\n",
       "      <td>-0.47014</td>\n",
       "      <td>-0.494196</td>\n",
       "      <td>0.778419</td>\n",
       "    </tr>\n",
       "  </tbody>\n",
       "</table>\n",
       "<p>5 rows × 299 columns</p>\n",
       "</div>"
      ],
      "text/plain": [
       "           AGER_TYP  AKT_DAT_KL  ALTER_HH  ALTERSKATEGORIE_FEIN  \\\n",
       "LNR                                                               \n",
       "-1.656309  1.031262   -0.545883 -0.371726             -0.428455   \n",
       "-1.655987  0.323502    0.396516  0.523127              0.837103   \n",
       "-1.655785  0.323502   -0.545883 -0.192755             -0.681567   \n",
       "-1.668538  1.031262   -0.545883 -0.729667             -0.934679   \n",
       "-1.655502  1.031262   -0.545883 -0.192755             -0.175344   \n",
       "\n",
       "           ANZ_HAUSHALTE_AKTIV  ANZ_HH_TITEL  ANZ_KINDER  ANZ_PERSONEN  \\\n",
       "LNR                                                                      \n",
       "-1.656309             0.573402     -0.499090   -0.204857     -0.752038   \n",
       "-1.655987            -0.445506     -0.499090   -0.204857     -0.402222   \n",
       "-1.655785            -0.518285      2.042255   -0.204857     -1.101855   \n",
       "-1.668538            -0.227168     -0.499090   -0.204857     -0.402222   \n",
       "-1.655502             3.339007     -0.499090   -0.204857     -0.752038   \n",
       "\n",
       "           ANZ_TITEL    ARBEIT      ...        CAMEO_DEU_2015_8D  \\\n",
       "LNR                                 ...                            \n",
       "-1.656309  -0.083831 -0.459891      ...                -0.167172   \n",
       "-1.655987  -0.083831 -0.860749      ...                -0.167172   \n",
       "-1.655785  -0.083831 -0.059034      ...                -0.167172   \n",
       "-1.668538  -0.083831 -0.059034      ...                -0.167172   \n",
       "-1.655502  -0.083831 -0.459891      ...                -0.167172   \n",
       "\n",
       "           CAMEO_DEU_2015_9A  CAMEO_DEU_2015_9B  CAMEO_DEU_2015_9C  \\\n",
       "LNR                                                                  \n",
       "-1.656309          -0.104604          -0.110149          -0.100902   \n",
       "-1.655987          -0.104604          -0.110149          -0.100902   \n",
       "-1.655785          -0.104604          -0.110149          -0.100902   \n",
       "-1.668538          -0.104604          -0.110149          -0.100902   \n",
       "-1.655502          -0.104604          -0.110149          -0.100902   \n",
       "\n",
       "           CAMEO_DEU_2015_9D  CAMEO_DEU_2015_9E  CAMEO_DEU_2015_XX  \\\n",
       "LNR                                                                  \n",
       "-1.656309          -0.125771          -0.094216          -0.016003   \n",
       "-1.655987          -0.125771          -0.094216          -0.016003   \n",
       "-1.655785          -0.125771          -0.094216          -0.016003   \n",
       "-1.668538          -0.125771          -0.094216          -0.016003   \n",
       "-1.655502          -0.125771          -0.094216          -0.016003   \n",
       "\n",
       "           OST_WEST_KZ_-1  OST_WEST_KZ_O  OST_WEST_KZ_W  \n",
       "LNR                                                      \n",
       "-1.656309        -0.47014      -0.494196       0.778419  \n",
       "-1.655987        -0.47014      -0.494196       0.778419  \n",
       "-1.655785        -0.47014       2.023489      -1.284655  \n",
       "-1.668538        -0.47014      -0.494196       0.778419  \n",
       "-1.655502        -0.47014      -0.494196       0.778419  \n",
       "\n",
       "[5 rows x 299 columns]"
      ]
     },
     "execution_count": 37,
     "metadata": {},
     "output_type": "execute_result"
    }
   ],
   "source": [
    "df_mailout_train.head(5)"
   ]
  },
  {
   "cell_type": "code",
   "execution_count": 38,
   "metadata": {},
   "outputs": [],
   "source": [
    "# Split the dataset into Train/Validation/Test\n",
    "\n",
    "X_train, X_val, y_train, y_val = train_test_split(df_mailout_train, y, stratify=y, test_size=0.2, random_state=42)"
   ]
  },
  {
   "cell_type": "code",
   "execution_count": 39,
   "metadata": {},
   "outputs": [
    {
     "name": "stdout",
     "output_type": "stream",
     "text": [
      "Requirement already satisfied: xgboost in /opt/conda/lib/python3.6/site-packages\n",
      "Requirement already satisfied: scipy in /opt/conda/lib/python3.6/site-packages (from xgboost)\n",
      "Requirement already satisfied: numpy in /opt/conda/lib/python3.6/site-packages (from xgboost)\n",
      "\u001b[33mYou are using pip version 9.0.1, however version 19.0.3 is available.\n",
      "You should consider upgrading via the 'pip install --upgrade pip' command.\u001b[0m\n"
     ]
    }
   ],
   "source": [
    "!pip install xgboost"
   ]
  },
  {
   "cell_type": "code",
   "execution_count": 41,
   "metadata": {},
   "outputs": [
    {
     "name": "stderr",
     "output_type": "stream",
     "text": [
      "/opt/conda/lib/python3.6/site-packages/xgboost/core.py:587: FutureWarning: Series.base is deprecated and will be removed in a future version\n",
      "  if getattr(data, 'base', None) is not None and \\\n"
     ]
    },
    {
     "data": {
      "text/plain": [
       "XGBRegressor(alpha=10, base_score=0.5, booster='gbtree', colsample_bylevel=1,\n",
       "       colsample_bytree=0.3, gamma=0, importance_type='gain',\n",
       "       learning_rate=0.1, max_delta_step=0, max_depth=5,\n",
       "       min_child_weight=1, missing=None, n_estimators=10, n_jobs=1,\n",
       "       nthread=None, objective='reg:linear', random_state=0, reg_alpha=0,\n",
       "       reg_lambda=1, scale_pos_weight=1, seed=None, silent=True,\n",
       "       subsample=1)"
      ]
     },
     "execution_count": 41,
     "metadata": {},
     "output_type": "execute_result"
    }
   ],
   "source": [
    "\n",
    "xg_reg = xgb.XGBRegressor(objective ='reg:linear', colsample_bytree = 0.3, learning_rate = 0.1,\n",
    "                max_depth = 5, alpha = 10, n_estimators = 10)\n",
    "xg_reg.fit(X_train,y_train)"
   ]
  },
  {
   "cell_type": "code",
   "execution_count": 42,
   "metadata": {},
   "outputs": [],
   "source": [
    "\n",
    "preds = xg_reg.predict(X_val)"
   ]
  },
  {
   "cell_type": "code",
   "execution_count": 43,
   "metadata": {},
   "outputs": [
    {
     "data": {
      "text/plain": [
       "array([ 0.17975822,  0.19365415,  0.17753419, ...,  0.18100509,\n",
       "        0.17590997,  0.17720166], dtype=float32)"
      ]
     },
     "execution_count": 43,
     "metadata": {},
     "output_type": "execute_result"
    }
   ],
   "source": [
    "preds"
   ]
  },
  {
   "cell_type": "code",
   "execution_count": 44,
   "metadata": {},
   "outputs": [
    {
     "name": "stdout",
     "output_type": "stream",
     "text": [
      "ROC score on validation data: 0.7650\n"
     ]
    }
   ],
   "source": [
    "\n",
    "print(\"ROC score on validation data: {:.4f}\".format(roc_auc_score(y_val, preds)))\n",
    "\n"
   ]
  },
  {
   "cell_type": "markdown",
   "metadata": {},
   "source": [
    "### Model Evaluation and Validation"
   ]
  },
  {
   "cell_type": "markdown",
   "metadata": {},
   "source": [
    "#### In terms of evaluation metric to use, I have tried accuracy, precision, recall and fscore but due to very high imbalance (i.e. In MAILOUT_TRAIN dataset, we can find among 43000 individuals, only 532 people response to the mail-out campaign which means the training data is highly imbalanced.), none of these were a good way to measure and then finalised on AUC and ROC as the evaluation metric to proceed.\n",
    "\n"
   ]
  },
  {
   "cell_type": "code",
   "execution_count": 62,
   "metadata": {},
   "outputs": [],
   "source": [
    "\n",
    "\n",
    "def train_predict(learner, X_train, y_train, X_test, y_test): \n",
    "    '''\n",
    "    inputs:\n",
    "       - learner: the learning algorithm to be trained and predicted on\n",
    "       - sample_size: the size of samples (number) to be drawn from training set\n",
    "       - X_train: features training set\n",
    "       - y_train: income training set\n",
    "       - X_test: features testing set\n",
    "       - y_test: income testing set\n",
    "    '''\n",
    "    \n",
    "    results = {}\n",
    "    \n",
    "    # TODO: Fit the learner to the training data using slicing with 'sample_size' using .fit(training_features[:], training_labels[:])\n",
    "    start = time() # Get start time\n",
    "    learner = learner.fit(X_train, y_train)\n",
    "    end = time() # Get end time\n",
    "    \n",
    "    # TODO: Calculate the training time\n",
    "    #results['train_time'] = end - start\n",
    "        \n",
    "    # TODO: Get the predictions on the test set(X_test),\n",
    "    #       then get predictions on the first 300 training samples(X_train) using .predict()\n",
    "    start = time() # Get start time\n",
    "    predictions_test = learner.predict(X_test)\n",
    "    predictions_train = learner.predict(X_train)\n",
    "    end = time() # Get end time\n",
    "    \n",
    "    # print('unique predictions_train: ', set(predictions_train))\n",
    "    \n",
    "    # TODO: Calculate the total prediction time\n",
    "    #results['pred_time'] = end - start\n",
    "            \n",
    "    # TODO: Compute accuracy on the first 300 training samples which is y_train[:300]\n",
    "    #results['acc_train'] = accuracy_score(y_train, predictions_train)\n",
    "        \n",
    "    # TODO: Compute accuracy on test set using accuracy_score()\n",
    "    #results['acc_test'] = accuracy_score(y_test, predictions_test)\n",
    "    \n",
    "    #results['prec_train'] = precision_score(y_train, predictions_train)\n",
    "    #results['recall_train'] = recall_score(y_train, predictions_train)\n",
    "    \n",
    "    #results['prec_test'] = precision_score(y_test, predictions_test)\n",
    "    #results['recall_test'] = recall_score(y_test, predictions_test)\n",
    "    \n",
    "    # TODO: Compute F-score on the the first 300 training samples using fbeta_score()\n",
    "    #results['f_train'] = fbeta_score(y_train, predictions_train, beta=1)\n",
    "        \n",
    "    # TODO: Compute F-score on the test set which is y_test\n",
    "    #results['f_test'] = fbeta_score(y_test, predictions_test, beta=1)\n",
    "       \n",
    "    # Success\n",
    "    #print(\"{} trained on samples.\".format(learner.__class__.__name__))\n",
    "    \n",
    "    #results['roc'] = roc_auc_score(y_test, predictions_test)\n",
    "    \n",
    "    roc = roc_auc_score(y_test, predictions_test)\n",
    "        \n",
    "    # Return the results\n",
    "    return roc"
   ]
  },
  {
   "cell_type": "code",
   "execution_count": 68,
   "metadata": {},
   "outputs": [
    {
     "data": {
      "text/plain": [
       "5"
      ]
     },
     "execution_count": 68,
     "metadata": {},
     "output_type": "execute_result"
    }
   ],
   "source": [
    "\n",
    "\n",
    "# Initialize 5 stratified folds\n",
    "skf = StratifiedKFold(n_splits=5, random_state=42)\n",
    "skf.get_n_splits(X, y)"
   ]
  },
  {
   "cell_type": "markdown",
   "metadata": {},
   "source": [
    "# Model Evaluation and Validation"
   ]
  },
  {
   "cell_type": "markdown",
   "metadata": {},
   "source": [
    "#### For this project we try 3 algorithms and use evaluation metrics to finalise on the best algorithm to use"
   ]
  },
  {
   "cell_type": "code",
   "execution_count": 88,
   "metadata": {},
   "outputs": [
    {
     "data": {
      "text/plain": [
       "\"\\nresult_list = []\\nfor alg in [alg_1, alg_2, alg_3]:\\n    alg_name = alg.__class__.__name__\\n    \\n    \\n    \\n    j=0\\n    for train_index, val_index in skf.split(df_mailout_train, y):\\n    \\n        j+=1\\n        #print('Fold {}...'.format(j))\\n        result = {}  \\n        result['alg_name'] = alg_name\\n        result['fold']  =  j\\n        # Split the data into training and test sets\\n        X_train, X_val = df_mailout_train.iloc[train_index], df_mailout_train.iloc[val_index]\\n        y_train, y_val = y.iloc[train_index], y.iloc[val_index]\\n        \\n        \\n        \\n        result['roc'] = train_predict(alg, X_train, y_train, X_val, y_val)\\n        result_list.append(result)\\n        print (result)\\n    \\n#return result_list    \\n\\nprint('result_list: ', result_list)\\n\""
      ]
     },
     "execution_count": 88,
     "metadata": {},
     "output_type": "execute_result"
    }
   ],
   "source": [
    "\n",
    "\n",
    "alg_abr = AdaBoostRegressor(random_state=42)\n",
    "alg_gbr = GradientBoostingRegressor(random_state=42)\n",
    "alg_xgb = XGBRegressor(random_state=42)\n",
    "\n",
    "\n",
    "result_list = []\n",
    "for alg in [alg_1, alg_2, alg_3]:\n",
    "    alg_name = alg.__class__.__name__\n",
    "    \n",
    "    \n",
    "    \n",
    "    j=0\n",
    "    for train_index, val_index in skf.split(df_mailout_train, y):\n",
    "    \n",
    "        j+=1\n",
    "        #print('Fold {}...'.format(j))\n",
    "        result = {}  \n",
    "        result['alg_name'] = alg_name\n",
    "        result['fold']  =  j\n",
    "        # Split the data into training and test sets\n",
    "        X_train, X_val = df_mailout_train.iloc[train_index], df_mailout_train.iloc[val_index]\n",
    "        y_train, y_val = y.iloc[train_index], y.iloc[val_index]\n",
    "        \n",
    "        \n",
    "        \n",
    "        result['roc'] = train_predict(alg, X_train, y_train, X_val, y_val)\n",
    "        result_list.append(result)\n",
    "        print (result)\n",
    "    \n",
    "#return result_list    \n",
    "\n",
    "print('result_list: ', result_list)\n"
   ]
  },
  {
   "cell_type": "code",
   "execution_count": 78,
   "metadata": {},
   "outputs": [],
   "source": [
    "df_scores = pd.DataFrame(result_list)"
   ]
  },
  {
   "cell_type": "code",
   "execution_count": null,
   "metadata": {},
   "outputs": [],
   "source": [
    "df_scores"
   ]
  },
  {
   "cell_type": "markdown",
   "metadata": {},
   "source": [
    "#### Score comparison to finalise on algorithm"
   ]
  },
  {
   "cell_type": "code",
   "execution_count": 87,
   "metadata": {},
   "outputs": [
    {
     "data": {
      "text/plain": [
       "alg_name\n",
       "AdaBoostRegressor            0.752166\n",
       "GradientBoostingRegressor    0.754719\n",
       "XGBRegressor                 0.756574\n",
       "Name: roc, dtype: float64"
      ]
     },
     "execution_count": 87,
     "metadata": {},
     "output_type": "execute_result"
    }
   ],
   "source": [
    "df_scores.groupby('alg_name')['roc'].mean()"
   ]
  },
  {
   "cell_type": "markdown",
   "metadata": {},
   "source": [
    "## FIne Tuning"
   ]
  },
  {
   "cell_type": "markdown",
   "metadata": {},
   "source": [
    "#### With XGBRegressor now finalised, now we need to test and finalise the hyperparameters best suited for our project. Using GridSearchCV to finalise on hyper parameters to use."
   ]
  },
  {
   "cell_type": "code",
   "execution_count": null,
   "metadata": {},
   "outputs": [],
   "source": [
    "\n",
    "\n",
    "'''\n",
    "parameters = {'max_depth': [3, 5, 7],\n",
    "              'learning_rate':[0.01, 0.1],\n",
    "              'min_child_weight': [1,3],\n",
    "              'colsample_bytree':[0.5, 0.7],\n",
    "              'reg_alpha':[0.01, 0.05],\n",
    "              'n_estimators': [400]\n",
    "\n",
    "             }\n",
    "'''\n",
    "\n",
    "\n",
    "parameters = { 'learning_rate' : [0.1],\n",
    "                'n_estimators' :[500],\n",
    "                'reg_alpha' : [0.05],\n",
    "                'subsample' : [0.6],\n",
    "                'colsample_bytree' : [0.7],\n",
    "                'gamma' : [0.2],\n",
    "                'max_depth' : [3],\n",
    "                'min_child_weight' : [2],\n",
    "                'objective' : ['binary:logistic'],\n",
    "                'scale_pos_weight' : [1],\n",
    "                'random_state' : [42],\n",
    "                'scoring' : ['roc_auc']\n",
    "             }\n",
    "\n",
    "# Perform grid search on the classifier using 'scorer' as the scoring method\n",
    "cv = GridSearchCV(alg_xgb, parameters, scoring = 'roc_auc', n_jobs= -1, cv=)\n",
    "\n",
    "# Fit the grid search object to the training data and find the optimal parameters\n",
    "grid_fit = cv.fit(X_train, y_train)\n",
    "\n",
    "cv.grid_scores_, cv.best_params_, cv.best_score_\n",
    "\n",
    "# Get the estimator and predict\n",
    "best_clf = grid_fit.best_estimator_\n",
    "#predictions = (best_clf.fit(X_train, y_train)).predict(X_test)\n",
    "\n",
    "best_predictions = best_clf.predict(X_val)"
   ]
  },
  {
   "cell_type": "code",
   "execution_count": 98,
   "metadata": {},
   "outputs": [
    {
     "data": {
      "text/plain": [
       "0.72380702511128214"
      ]
     },
     "execution_count": 98,
     "metadata": {},
     "output_type": "execute_result"
    }
   ],
   "source": [
    "roc_auc_score(y_val, best_predictions)"
   ]
  },
  {
   "cell_type": "markdown",
   "metadata": {},
   "source": [
    "#### Some more testing to find best hyper parameters"
   ]
  },
  {
   "cell_type": "code",
   "execution_count": 121,
   "metadata": {},
   "outputs": [],
   "source": [
    "alg_test = XGBRegressor(\n",
    "    learning_rate = 0.1,\n",
    "    n_estimators = 500,\n",
    "    reg_alpha = 0.05,\n",
    "    subsample = 0.6,\n",
    "    colsample_bytree = 0.7,\n",
    "    gamma = 0.2,\n",
    "    max_depth = 3,\n",
    "    min_child_weight = 2,\n",
    "    objective = 'binary:logistic',\n",
    "    scale_pos_weight = 1,\n",
    "    random_state = 42,\n",
    "    scoring = 'roc_auc')"
   ]
  },
  {
   "cell_type": "code",
   "execution_count": 123,
   "metadata": {},
   "outputs": [
    {
     "name": "stderr",
     "output_type": "stream",
     "text": [
      "/opt/conda/lib/python3.6/site-packages/xgboost/core.py:587: FutureWarning: Series.base is deprecated and will be removed in a future version\n",
      "  if getattr(data, 'base', None) is not None and \\\n",
      "/opt/conda/lib/python3.6/site-packages/xgboost/core.py:587: FutureWarning: Series.base is deprecated and will be removed in a future version\n",
      "  if getattr(data, 'base', None) is not None and \\\n"
     ]
    },
    {
     "name": "stdout",
     "output_type": "stream",
     "text": [
      "[0.71726239444323392, 0.71726239444323392]\n"
     ]
    }
   ],
   "source": [
    "#from sklearn.cross_validation import KFold, StratifiedKFold\n",
    "\n",
    "cv = StratifiedKFold(n_splits=2,shuffle=True, random_state=42)\n",
    "\n",
    "roc_score = []\n",
    "for train,test in cv.split(X_train,y_train):\n",
    "    preds = alg_test.fit(X_train,y_train)\n",
    "    predictions_test = preds.predict(X_val)\n",
    "    roc_score.append(roc_auc_score(y_val, predictions_test))\n",
    "    \n",
    "print(roc_score)"
   ]
  },
  {
   "cell_type": "markdown",
   "metadata": {},
   "source": [
    "## Final model for scoring and kaggle submission"
   ]
  },
  {
   "cell_type": "code",
   "execution_count": 40,
   "metadata": {},
   "outputs": [
    {
     "name": "stderr",
     "output_type": "stream",
     "text": [
      "/opt/conda/lib/python3.6/site-packages/xgboost/core.py:587: FutureWarning: Series.base is deprecated and will be removed in a future version\n",
      "  if getattr(data, 'base', None) is not None and \\\n"
     ]
    },
    {
     "name": "stdout",
     "output_type": "stream",
     "text": [
      "0.779095553466\n"
     ]
    }
   ],
   "source": [
    "\n",
    "\n",
    "clf_final = xgb.XGBRegressor(\n",
    "    objective = 'binary:logistic',\n",
    "    max_depth = 5,\n",
    "    min_child_weight = 2,\n",
    "    learning_rate = 0.01,    \n",
    "    reg_alpha = 0.05,\n",
    "    subsample = 0.6,\n",
    "    colsample_bytree = 0.7,\n",
    "    gamma = 0.2,    \n",
    "    scale_pos_weight = 1,\n",
    "    random_state = 42,\n",
    "    n_estimators = 500,\n",
    "    scoring = 'roc_auc')\n",
    "\n",
    "preds = clf_final.fit(X_train,y_train)\n",
    "predictions_test = preds.predict(X_val)\n",
    "print(roc_auc_score(y_val, predictions_test))"
   ]
  },
  {
   "cell_type": "markdown",
   "metadata": {},
   "source": [
    "### Identify and understand important features from supervised learning"
   ]
  },
  {
   "cell_type": "code",
   "execution_count": 41,
   "metadata": {},
   "outputs": [
    {
     "data": {
      "text/plain": [
       "array([  3.66100064e-03,   2.43211607e-03,   4.36457200e-03,\n",
       "         4.10918100e-03,   2.84594228e-03,   2.04912759e-03,\n",
       "         1.39437872e-03,   4.01054742e-03,   1.37734914e-03,\n",
       "         4.54569096e-03,   3.95574467e-03,   3.72300856e-03,\n",
       "         3.53430188e-03,   3.27648409e-03,   2.69285659e-03,\n",
       "         2.69186497e-03,   1.85684930e-03,   1.63668743e-03,\n",
       "         1.21885503e-03,   5.96414832e-03,   3.07139521e-03,\n",
       "         0.00000000e+00,   2.19155964e-03,   1.86613190e-03,\n",
       "         2.68604816e-03,   3.70538468e-03,   5.44410804e-03,\n",
       "         1.98796997e-03,   3.74612212e-03,   9.32905066e-04,\n",
       "         2.23408081e-03,   2.48345523e-03,   6.21589879e-03,\n",
       "         2.84456275e-03,   4.41455515e-03,   4.10738494e-03,\n",
       "         2.24586064e-03,   2.61620944e-03,   3.39189172e-03,\n",
       "         3.34531418e-03,   5.48499404e-03,   3.80350812e-03,\n",
       "         4.87451535e-03,   2.79801595e-03,   6.17612526e-03,\n",
       "         4.19753371e-03,   4.35668463e-03,   1.30889844e-03,\n",
       "         4.53362567e-03,   1.33458655e-02,   4.01646039e-03,\n",
       "         1.39159895e-03,   6.20813854e-03,   4.62706480e-03,\n",
       "         7.30984844e-04,   0.00000000e+00,   3.41461110e-03,\n",
       "         1.30086869e-03,   4.95195296e-03,   4.04653465e-03,\n",
       "         1.28624728e-03,   1.76163530e-03,   2.34648096e-03,\n",
       "         3.50143225e-03,   1.63647416e-03,   2.65911920e-03,\n",
       "         4.20076400e-03,   4.22489084e-03,   5.06377919e-03,\n",
       "         2.47176341e-03,   3.56415985e-03,   3.71268019e-03,\n",
       "         2.77218432e-03,   4.41067060e-03,   4.94817784e-03,\n",
       "         3.29215033e-03,   2.31552566e-03,   2.87908595e-03,\n",
       "         3.66454176e-03,   4.87240357e-03,   4.61005094e-03,\n",
       "         5.25804469e-03,   3.77619849e-03,   4.59921267e-03,\n",
       "         5.36712818e-03,   3.24518350e-03,   4.19849530e-03,\n",
       "         4.77803266e-03,   1.19133887e-03,   6.56732172e-03,\n",
       "         4.76913387e-03,   5.46786468e-03,   3.48162185e-03,\n",
       "         3.30246962e-03,   3.51277809e-03,   4.34687687e-03,\n",
       "         5.05311089e-03,   2.84366566e-03,   2.99183792e-03,\n",
       "         2.50468194e-03,   2.59521580e-03,   4.37206030e-03,\n",
       "         3.95853398e-03,   5.00214100e-03,   4.69873007e-03,\n",
       "         0.00000000e+00,   4.72511677e-03,   4.32198402e-03,\n",
       "         4.11653845e-03,   3.88628175e-03,   3.58736515e-03,\n",
       "         3.39713111e-03,   4.80886688e-03,   3.80982878e-03,\n",
       "         6.05016435e-03,   5.38635440e-03,   3.96399759e-03,\n",
       "         3.79013200e-03,   4.23444062e-03,   4.85840160e-03,\n",
       "         2.66934559e-03,   5.69385756e-03,   4.03071707e-03,\n",
       "         3.12691717e-03,   4.25534043e-03,   2.78058648e-03,\n",
       "         2.44648568e-03,   4.76924144e-03,   2.37812428e-03,\n",
       "         4.23324294e-03,   5.36710350e-03,   3.74379894e-03,\n",
       "         4.64441022e-03,   3.34623945e-03,   3.49113788e-03,\n",
       "         3.27457162e-03,   3.32636596e-03,   4.06464515e-03,\n",
       "         3.06657027e-03,   3.63441370e-03,   3.29629611e-03,\n",
       "         4.45379363e-03,   3.79096344e-03,   4.40203538e-03,\n",
       "         4.03364794e-03,   5.22091100e-03,   3.88759584e-03,\n",
       "         3.41264624e-03,   4.03876929e-03,   5.49369166e-03,\n",
       "         3.31715611e-03,   2.39103800e-03,   5.24243852e-03,\n",
       "         4.70933458e-03,   4.63939039e-03,   3.13897338e-03,\n",
       "         4.17439407e-03,   3.77612701e-03,   4.98409150e-03,\n",
       "         4.41084523e-03,   3.46451835e-03,   6.73895981e-03,\n",
       "         3.11635784e-03,   5.00416104e-03,   5.54981641e-03,\n",
       "         3.73559166e-03,   6.99999742e-03,   3.58427083e-03,\n",
       "         4.34677675e-03,   5.20386314e-03,   4.51877434e-03,\n",
       "         1.93427748e-03,   5.83347678e-03,   5.06437337e-03,\n",
       "         2.45736470e-03,   4.78377612e-03,   5.98034449e-03,\n",
       "         3.40294698e-03,   2.02822848e-03,   3.55674699e-03,\n",
       "         3.73985851e-03,   2.53036967e-03,   3.75183346e-03,\n",
       "         3.88776464e-03,   4.19342564e-03,   5.10333246e-03,\n",
       "         3.54020135e-03,   5.30098658e-03,   3.55943642e-03,\n",
       "         4.79698041e-03,   4.62339120e-03,   2.72971042e-03,\n",
       "         2.45319679e-03,   5.55316499e-03,   5.04584238e-03,\n",
       "         2.46564671e-03,   4.20569303e-03,   4.96427668e-03,\n",
       "         4.29206714e-03,   3.27106728e-03,   3.48061044e-03,\n",
       "         3.52794770e-03,   3.15573043e-03,   4.02166927e-03,\n",
       "         2.77401507e-03,   3.72428051e-03,   3.99406254e-03,\n",
       "         3.82334949e-03,   5.59187355e-03,   1.67108583e-03,\n",
       "         3.77032650e-03,   5.30687440e-03,   3.00615793e-03,\n",
       "         4.13671276e-03,   4.48961975e-03,   5.24075888e-03,\n",
       "         3.83511954e-03,   2.51604966e-03,   4.64514550e-03,\n",
       "         3.40275140e-03,   3.50322295e-03,   4.30031586e-03,\n",
       "         3.63082532e-03,   3.37762153e-03,   2.51721148e-03,\n",
       "         1.95583538e-03,   3.87594500e-03,   2.97137629e-03,\n",
       "         3.93398339e-03,   4.80074529e-03,   4.54113027e-03,\n",
       "         3.61780310e-03,   2.32593832e-03,   2.30747066e-03,\n",
       "         5.07989340e-03,   2.94370484e-03,   5.61898435e-03,\n",
       "         7.00871868e-04,   2.66815070e-04,   3.53252725e-03,\n",
       "         5.89120528e-03,   1.25908630e-03,   3.68478661e-03,\n",
       "         5.01398649e-03,   5.12721948e-03,   3.42046143e-03,\n",
       "         5.62208984e-03,   1.59835455e-03,   4.69921157e-03,\n",
       "         3.25729023e-03,   0.00000000e+00,   1.12357677e-03,\n",
       "         1.94021198e-03,   0.00000000e+00,   3.50928021e-04,\n",
       "         2.37986562e-03,   8.42320791e-04,   5.12460305e-04,\n",
       "         1.51287892e-03,   1.47811742e-03,   0.00000000e+00,\n",
       "         0.00000000e+00,   1.16443017e-03,   2.82267551e-03,\n",
       "         2.55413516e-03,   0.00000000e+00,   5.13817184e-03,\n",
       "         2.09695869e-03,   0.00000000e+00,   1.71655207e-03,\n",
       "         1.54662284e-03,   2.79289484e-03,   3.07071209e-03,\n",
       "         3.08980452e-05,   6.09132869e-04,   0.00000000e+00,\n",
       "         2.41649430e-03,   0.00000000e+00,   0.00000000e+00,\n",
       "         9.19924641e-04,   6.28471724e-04,   0.00000000e+00,\n",
       "         6.66108390e-04,   2.62857275e-03,   0.00000000e+00,\n",
       "         0.00000000e+00,   2.65887147e-03,   6.81893842e-04,\n",
       "         0.00000000e+00,   7.35722668e-03,   0.00000000e+00,\n",
       "         8.92253651e-04,   7.50776031e-04,   1.28389813e-03,\n",
       "         1.13762298e-03,   0.00000000e+00,   9.58482444e-04,\n",
       "         2.32894672e-03,   3.59473075e-03], dtype=float32)"
      ]
     },
     "execution_count": 41,
     "metadata": {},
     "output_type": "execute_result"
    }
   ],
   "source": [
    "feat_importance = clf_final.feature_importances_\n",
    "feat_importance"
   ]
  },
  {
   "cell_type": "code",
   "execution_count": 43,
   "metadata": {},
   "outputs": [
    {
     "name": "stdout",
     "output_type": "stream",
     "text": [
      "['D19_SOZIALES' 'CAMEO_DEU_2015_8D' 'KBA13_HERST_AUDI_VW' 'KBA13_HALTER_35'\n",
      " 'KBA05_AUTOQUOT']\n",
      "[ 0.01334587  0.00735723  0.007       0.00673896  0.00656732]\n"
     ]
    },
    {
     "data": {
      "image/png": "[encoded data removed]",
      "text/plain": [
       "<matplotlib.figure.Figure at 0x7f9e4a86c7f0>"
      ]
     },
     "metadata": {
      "needs_background": "light"
     },
     "output_type": "display_data"
    }
   ],
   "source": [
    "num_feat = 5\n",
    "\n",
    "indices = np.argsort(feat_importance)[::-1]\n",
    "columns = X_train.columns.values[indices[:num_feat]]\n",
    "values = feat_importance[indices][:num_feat]\n",
    "\n",
    "#print((indices))\n",
    "print(columns)\n",
    "print(values)\n",
    "\n",
    "plt.title('Feature Importances')\n",
    "plt.barh(np.arange(num_feat), values, color='b', align='center', label = \"Feature Weight\")\n",
    "#plt.barh(np.arange(num_feat), np.cumsum(values), color='b', align='center',label = \"Cumsum Weight\")\n",
    "\n",
    "\n",
    "plt.yticks(np.arange(num_feat), columns)\n",
    "plt.xlabel('Relative Importance')\n",
    "plt.show()\n",
    "\n",
    "#for name, importance in zip(X_train.column, feat_importance):\n",
    "#    print(name, \"=\", importance)"
   ]
  },
  {
   "cell_type": "code",
   "execution_count": 44,
   "metadata": {},
   "outputs": [
    {
     "data": {
      "text/plain": [
       "array([  1.,   5.,   2.,   3.,   4.,  nan,   0.])"
      ]
     },
     "execution_count": 44,
     "metadata": {},
     "output_type": "execute_result"
    }
   ],
   "source": [
    "mailout_train['D19_SOZIALES'].unique()"
   ]
  },
  {
   "cell_type": "code",
   "execution_count": null,
   "metadata": {},
   "outputs": [],
   "source": []
  },
  {
   "cell_type": "markdown",
   "metadata": {},
   "source": [
    "### Analyse this most imp feature from what we learnt earlier in unsupervised learning\n"
   ]
  },
  {
   "cell_type": "code",
   "execution_count": 88,
   "metadata": {},
   "outputs": [],
   "source": [
    "# earlier fit of data was done within method so it could not be used now for inverse_transform.\n",
    "# as we have actual cleaned customer data, lets quickly do pca.\n",
    "\n",
    "customers_pca = PCA(n_components=220).fit(customers)\n",
    "customers_pca_data = customers_pca.transform(customers)"
   ]
  },
  {
   "cell_type": "markdown",
   "metadata": {},
   "source": [
    "Idea is to do comparison between what we identified in supervised learning with what we earlier identified in unsupervised learning  \n",
    "\n",
    "In unsupervised learning we identified various clusters in which some clusters are over represented and some under represented  \n",
    "Check how important feature that we identified in XGBoost is placed in over represented and under represented cluster  \n",
    "\n",
    "Steps:  \n",
    "1) find items in required cluster  \n",
    "2) final actual data (reduced) for those items  \n",
    "3) do inverse_transform to get full data from reduced data  \n",
    "4) find distribution of required column in that dataframe  \n",
    "\n"
   ]
  },
  {
   "cell_type": "code",
   "execution_count": 110,
   "metadata": {},
   "outputs": [],
   "source": [
    "def get_feat_dist_in_cluster(cluster_number, feature):\n",
    "    \n",
    "    # find items in required clustered\n",
    "    final_items_in_cluster = customers_clustered[customers_clustered['Cluster'] == cluster_number].index\n",
    "    # get data of items in the identified cluster\n",
    "    final_reduced_data = reduced_customers.loc[final_items_in_cluster]\n",
    "    final_data_list = customers_pca.inverse_transform(final_reduced_data)\n",
    "    final_dataframe = pd.DataFrame(final_data_list, columns=customers.columns.values)\n",
    "    final_dataframe[feature].hist()\n",
    "    "
   ]
  },
  {
   "cell_type": "code",
   "execution_count": 112,
   "metadata": {},
   "outputs": [
    {
     "data": {
      "image/png": "[encoded data removed]",
      "text/plain": [
       "<matplotlib.figure.Figure at 0x7f9e4a0590b8>"
      ]
     },
     "metadata": {
      "needs_background": "light"
     },
     "output_type": "display_data"
    }
   ],
   "source": [
    "# 10 is the cluster with under representation of customer data in comparison to general population\n",
    "get_feat_dist_in_cluster(10, 'D19_SOZIALES')"
   ]
  },
  {
   "cell_type": "code",
   "execution_count": 109,
   "metadata": {},
   "outputs": [
    {
     "data": {
      "text/plain": [
       "<matplotlib.axes._subplots.AxesSubplot at 0x7f9e8004b438>"
      ]
     },
     "execution_count": 109,
     "metadata": {},
     "output_type": "execute_result"
    },
    {
     "data": {
      "image/png": "[encoded data removed]",
      "text/plain": [
       "<matplotlib.figure.Figure at 0x7f9e727c4198>"
      ]
     },
     "metadata": {
      "needs_background": "light"
     },
     "output_type": "display_data"
    }
   ],
   "source": [
    "# 5 is the cluster with over representation of customer data in comparison to general population\n",
    "get_feat_dist_in_cluster(5, 'D19_SOZIALES')"
   ]
  },
  {
   "cell_type": "markdown",
   "metadata": {},
   "source": []
  },
  {
   "cell_type": "markdown",
   "metadata": {},
   "source": [
    "#### From quick comparison of above 2 charts, we can see drastic difference in the distribution of the most important feature \"D19_SOZIALES\". In Cluster 5 the over represented cluster of customer, there is a single bar and in Cluster 10 under represented cluster of customer there is a distribution and not a consolidation in 1 particular value.\n"
   ]
  },
  {
   "cell_type": "markdown",
   "metadata": {},
   "source": [
    "## Part 3: Kaggle Competition\n",
    "\n",
    "Now that you've created a model to predict which individuals are most likely to respond to a mailout campaign, it's time to test that model in competition through Kaggle. If you click on the link [here](http://www.kaggle.com/t/21e6d45d4c574c7fa2d868f0e8c83140), you'll be taken to the competition page where, if you have a Kaggle account, you can enter. If you're one of the top performers, you may have the chance to be contacted by a hiring manager from Arvato or Bertelsmann for an interview!\n",
    "\n",
    "Your entry to the competition should be a CSV file with two columns. The first column should be a copy of \"LNR\", which acts as an ID number for each individual in the \"TEST\" partition. The second column, \"RESPONSE\", should be some measure of how likely each individual became a customer – this might not be a straightforward probability. As you should have found in Part 2, there is a large output class imbalance, where most individuals did not respond to the mailout. Thus, predicting individual classes and using accuracy does not seem to be an appropriate performance evaluation method. Instead, the competition will be using AUC to evaluate performance. The exact values of the \"RESPONSE\" column do not matter as much: only that the higher values try to capture as many of the actual customers as possible, early in the ROC curve sweep."
   ]
  },
  {
   "cell_type": "code",
   "execution_count": 113,
   "metadata": {},
   "outputs": [
    {
     "name": "stderr",
     "output_type": "stream",
     "text": [
      "/opt/conda/lib/python3.6/site-packages/IPython/core/interactiveshell.py:2785: DtypeWarning: Columns (18,19) have mixed types. Specify dtype option on import or set low_memory=False.\n",
      "  interactivity=interactivity, compiler=compiler, result=result)\n"
     ]
    }
   ],
   "source": [
    "mailout_test = pd.read_csv('../../data/Term2/capstone/arvato_data/Udacity_MAILOUT_052018_TEST.csv', sep=';')"
   ]
  },
  {
   "cell_type": "code",
   "execution_count": 116,
   "metadata": {},
   "outputs": [
    {
     "data": {
      "text/plain": [
       "['RESPONSE']"
      ]
     },
     "execution_count": 116,
     "metadata": {},
     "output_type": "execute_result"
    }
   ],
   "source": [
    "# as we want to make prediction using model trained with mailout_train, check/make sure this dataset is not different\n",
    "missing = list(np.setdiff1d(mailout_train.columns, mailout_test.columns))\n",
    "missing"
   ]
  },
  {
   "cell_type": "code",
   "execution_count": 118,
   "metadata": {},
   "outputs": [
    {
     "name": "stdout",
     "output_type": "stream",
     "text": [
      "before preprocessing mailout_test.shape:  (42833, 366)\n",
      "shape after corr (42833, 253)\n",
      "shape after one-hot (42833, 300)\n",
      "shape after impute (42833, 300)\n",
      "shape after scaling (42833, 300)\n",
      "after preprocessing mailout_test_clean.shape:  (42833, 299)\n"
     ]
    }
   ],
   "source": [
    "print('before preprocessing mailout_test.shape: ', mailout_test.shape)\n",
    "mailout_test_clean = data_preprocess_2(mailout_test, False)\n",
    "print('after preprocessing mailout_test_clean.shape: ', mailout_test_clean.shape)"
   ]
  },
  {
   "cell_type": "code",
   "execution_count": 120,
   "metadata": {},
   "outputs": [],
   "source": [
    "prediction_for_kaggle = clf_final.predict(mailout_test_clean)"
   ]
  },
  {
   "cell_type": "code",
   "execution_count": 122,
   "metadata": {},
   "outputs": [],
   "source": [
    "df_kaggle = pd.DataFrame(index=mailout_test['LNR'].astype('int32'), data=prediction_for_kaggle)\n",
    "df_kaggle.rename(columns={0: \"RESPONSE\"}, inplace=True)"
   ]
  },
  {
   "cell_type": "code",
   "execution_count": 123,
   "metadata": {},
   "outputs": [
    {
     "data": {
      "text/html": [
       "<div>\n",
       "<style scoped>\n",
       "    .dataframe tbody tr th:only-of-type {\n",
       "        vertical-align: middle;\n",
       "    }\n",
       "\n",
       "    .dataframe tbody tr th {\n",
       "        vertical-align: top;\n",
       "    }\n",
       "\n",
       "    .dataframe thead th {\n",
       "        text-align: right;\n",
       "    }\n",
       "</style>\n",
       "<table border=\"1\" class=\"dataframe\">\n",
       "  <thead>\n",
       "    <tr style=\"text-align: right;\">\n",
       "      <th></th>\n",
       "      <th>RESPONSE</th>\n",
       "    </tr>\n",
       "    <tr>\n",
       "      <th>LNR</th>\n",
       "      <th></th>\n",
       "    </tr>\n",
       "  </thead>\n",
       "  <tbody>\n",
       "    <tr>\n",
       "      <th>1754</th>\n",
       "      <td>0.031435</td>\n",
       "    </tr>\n",
       "    <tr>\n",
       "      <th>1770</th>\n",
       "      <td>0.040635</td>\n",
       "    </tr>\n",
       "    <tr>\n",
       "      <th>1465</th>\n",
       "      <td>0.008846</td>\n",
       "    </tr>\n",
       "    <tr>\n",
       "      <th>1470</th>\n",
       "      <td>0.009231</td>\n",
       "    </tr>\n",
       "    <tr>\n",
       "      <th>1478</th>\n",
       "      <td>0.014904</td>\n",
       "    </tr>\n",
       "    <tr>\n",
       "      <th>1782</th>\n",
       "      <td>0.009162</td>\n",
       "    </tr>\n",
       "    <tr>\n",
       "      <th>1485</th>\n",
       "      <td>0.007871</td>\n",
       "    </tr>\n",
       "    <tr>\n",
       "      <th>1519</th>\n",
       "      <td>0.024972</td>\n",
       "    </tr>\n",
       "    <tr>\n",
       "      <th>1835</th>\n",
       "      <td>0.021460</td>\n",
       "    </tr>\n",
       "    <tr>\n",
       "      <th>1522</th>\n",
       "      <td>0.007717</td>\n",
       "    </tr>\n",
       "  </tbody>\n",
       "</table>\n",
       "</div>"
      ],
      "text/plain": [
       "      RESPONSE\n",
       "LNR           \n",
       "1754  0.031435\n",
       "1770  0.040635\n",
       "1465  0.008846\n",
       "1470  0.009231\n",
       "1478  0.014904\n",
       "1782  0.009162\n",
       "1485  0.007871\n",
       "1519  0.024972\n",
       "1835  0.021460\n",
       "1522  0.007717"
      ]
     },
     "execution_count": 123,
     "metadata": {},
     "output_type": "execute_result"
    }
   ],
   "source": [
    "df_kaggle.head(10)"
   ]
  },
  {
   "cell_type": "code",
   "execution_count": 124,
   "metadata": {},
   "outputs": [],
   "source": [
    "df_kaggle.to_csv('submission.csv')"
   ]
  },
  {
   "cell_type": "code",
   "execution_count": null,
   "metadata": {},
   "outputs": [],
   "source": []
  }
 ],
 "metadata": {
  "kernelspec": {
   "display_name": "Python 3",
   "language": "python",
   "name": "python3"
  },
  "language_info": {
   "codemirror_mode": {
    "name": "ipython",
    "version": 3
   },
   "file_extension": ".py",
   "mimetype": "text/x-python",
   "name": "python",
   "nbconvert_exporter": "python",
   "pygments_lexer": "ipython3",
   "version": "3.6.3"
  }
 },
 "nbformat": 4,
 "nbformat_minor": 2
}
